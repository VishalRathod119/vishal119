{
 "cells": [
  {
   "cell_type": "markdown",
   "metadata": {},
   "source": [
    "# Problem Statement:\n",
    "**A UK based retail client wants to look into their transactional data sets and perform analytics to increase sales and improve customer loyalty. You are provided a sample data (attached with this mail) for your peruse. You are requested to look into this data set and use various analytical techniques/ algorithms to understand it better and come up with insights that business can use. Duration of data is from 01/12/2010 to 09/12/2011.**"
   ]
  },
  {
   "cell_type": "markdown",
   "metadata": {},
   "source": [
    "# Dictionary:\n",
    "**InvoiceNo:** Invoice number. Nominal, a 6-digit integral number uniquely assigned to each transaction. If this code starts with letter 'c', it indicates a cancellation.<br>\n",
    "**StockCode:** Product (item) code. Nominal, a 5-digit integral number uniquely assigned to each distinct product.<br>\n",
    "**Description:** Product (item) name. Nominal.<br>\n",
    "**Quantity:** The quantities of each product (item) per transaction. Numeric.<br>\n",
    "**InvoiceDate:** Invice Date and time. Numeric, the day and time when each transaction was generated.<br>\n",
    "**UnitPrice:** Unit price. Numeric, Product price per unit in sterling.<br>\n",
    "**CustomerID:** Customer number. Nominal, a 5-digit integral number uniquely assigned to each customer.<br>\n",
    "**Country:** Country name. Nominal, the name of the country where each customer resides."
   ]
  },
  {
   "cell_type": "markdown",
   "metadata": {},
   "source": [
    "## Import necessary libraries"
   ]
  },
  {
   "cell_type": "code",
   "execution_count": 1,
   "metadata": {},
   "outputs": [],
   "source": [
    "import numpy as np\n",
    "import pandas as pd\n",
    "import seaborn as sns\n",
    "import matplotlib.pyplot as plt\n",
    "%matplotlib inline\n",
    "from pylab import rcParams\n",
    "from sklearn.linear_model import LinearRegression\n",
    "from sklearn.model_selection import train_test_split\n",
    "from sklearn.metrics import confusion_matrix, classification_report,plot_confusion_matrix\n",
    "from sklearn import metrics"
   ]
  },
  {
   "cell_type": "markdown",
   "metadata": {},
   "source": [
    "## Read the dataset"
   ]
  },
  {
   "cell_type": "code",
   "execution_count": 2,
   "metadata": {},
   "outputs": [
    {
     "data": {
      "text/html": [
       "<div>\n",
       "<style scoped>\n",
       "    .dataframe tbody tr th:only-of-type {\n",
       "        vertical-align: middle;\n",
       "    }\n",
       "\n",
       "    .dataframe tbody tr th {\n",
       "        vertical-align: top;\n",
       "    }\n",
       "\n",
       "    .dataframe thead th {\n",
       "        text-align: right;\n",
       "    }\n",
       "</style>\n",
       "<table border=\"1\" class=\"dataframe\">\n",
       "  <thead>\n",
       "    <tr style=\"text-align: right;\">\n",
       "      <th></th>\n",
       "      <th>InvoiceNo</th>\n",
       "      <th>StockCode</th>\n",
       "      <th>Description</th>\n",
       "      <th>Quantity</th>\n",
       "      <th>InvoiceDate</th>\n",
       "      <th>UnitPrice</th>\n",
       "      <th>CustomerID</th>\n",
       "      <th>Country</th>\n",
       "    </tr>\n",
       "  </thead>\n",
       "  <tbody>\n",
       "    <tr>\n",
       "      <th>0</th>\n",
       "      <td>536365</td>\n",
       "      <td>85123A</td>\n",
       "      <td>WHITE HANGING HEART T-LIGHT HOLDER</td>\n",
       "      <td>6</td>\n",
       "      <td>2010-12-01 08:26:00</td>\n",
       "      <td>2.55</td>\n",
       "      <td>17850.0</td>\n",
       "      <td>United Kingdom</td>\n",
       "    </tr>\n",
       "    <tr>\n",
       "      <th>1</th>\n",
       "      <td>536365</td>\n",
       "      <td>71053</td>\n",
       "      <td>WHITE METAL LANTERN</td>\n",
       "      <td>6</td>\n",
       "      <td>2010-12-01 08:26:00</td>\n",
       "      <td>3.39</td>\n",
       "      <td>17850.0</td>\n",
       "      <td>United Kingdom</td>\n",
       "    </tr>\n",
       "    <tr>\n",
       "      <th>2</th>\n",
       "      <td>536365</td>\n",
       "      <td>84406B</td>\n",
       "      <td>CREAM CUPID HEARTS COAT HANGER</td>\n",
       "      <td>8</td>\n",
       "      <td>2010-12-01 08:26:00</td>\n",
       "      <td>2.75</td>\n",
       "      <td>17850.0</td>\n",
       "      <td>United Kingdom</td>\n",
       "    </tr>\n",
       "    <tr>\n",
       "      <th>3</th>\n",
       "      <td>536365</td>\n",
       "      <td>84029G</td>\n",
       "      <td>KNITTED UNION FLAG HOT WATER BOTTLE</td>\n",
       "      <td>6</td>\n",
       "      <td>2010-12-01 08:26:00</td>\n",
       "      <td>3.39</td>\n",
       "      <td>17850.0</td>\n",
       "      <td>United Kingdom</td>\n",
       "    </tr>\n",
       "    <tr>\n",
       "      <th>4</th>\n",
       "      <td>536365</td>\n",
       "      <td>84029E</td>\n",
       "      <td>RED WOOLLY HOTTIE WHITE HEART.</td>\n",
       "      <td>6</td>\n",
       "      <td>2010-12-01 08:26:00</td>\n",
       "      <td>3.39</td>\n",
       "      <td>17850.0</td>\n",
       "      <td>United Kingdom</td>\n",
       "    </tr>\n",
       "    <tr>\n",
       "      <th>5</th>\n",
       "      <td>536365</td>\n",
       "      <td>22752</td>\n",
       "      <td>SET 7 BABUSHKA NESTING BOXES</td>\n",
       "      <td>2</td>\n",
       "      <td>2010-12-01 08:26:00</td>\n",
       "      <td>7.65</td>\n",
       "      <td>17850.0</td>\n",
       "      <td>United Kingdom</td>\n",
       "    </tr>\n",
       "    <tr>\n",
       "      <th>6</th>\n",
       "      <td>536365</td>\n",
       "      <td>21730</td>\n",
       "      <td>GLASS STAR FROSTED T-LIGHT HOLDER</td>\n",
       "      <td>6</td>\n",
       "      <td>2010-12-01 08:26:00</td>\n",
       "      <td>4.25</td>\n",
       "      <td>17850.0</td>\n",
       "      <td>United Kingdom</td>\n",
       "    </tr>\n",
       "    <tr>\n",
       "      <th>7</th>\n",
       "      <td>536366</td>\n",
       "      <td>22633</td>\n",
       "      <td>HAND WARMER UNION JACK</td>\n",
       "      <td>6</td>\n",
       "      <td>2010-12-01 08:28:00</td>\n",
       "      <td>1.85</td>\n",
       "      <td>17850.0</td>\n",
       "      <td>United Kingdom</td>\n",
       "    </tr>\n",
       "    <tr>\n",
       "      <th>8</th>\n",
       "      <td>536366</td>\n",
       "      <td>22632</td>\n",
       "      <td>HAND WARMER RED POLKA DOT</td>\n",
       "      <td>6</td>\n",
       "      <td>2010-12-01 08:28:00</td>\n",
       "      <td>1.85</td>\n",
       "      <td>17850.0</td>\n",
       "      <td>United Kingdom</td>\n",
       "    </tr>\n",
       "    <tr>\n",
       "      <th>9</th>\n",
       "      <td>536367</td>\n",
       "      <td>84879</td>\n",
       "      <td>ASSORTED COLOUR BIRD ORNAMENT</td>\n",
       "      <td>32</td>\n",
       "      <td>2010-12-01 08:34:00</td>\n",
       "      <td>1.69</td>\n",
       "      <td>13047.0</td>\n",
       "      <td>United Kingdom</td>\n",
       "    </tr>\n",
       "  </tbody>\n",
       "</table>\n",
       "</div>"
      ],
      "text/plain": [
       "  InvoiceNo StockCode                          Description  Quantity  \\\n",
       "0    536365    85123A   WHITE HANGING HEART T-LIGHT HOLDER         6   \n",
       "1    536365     71053                  WHITE METAL LANTERN         6   \n",
       "2    536365    84406B       CREAM CUPID HEARTS COAT HANGER         8   \n",
       "3    536365    84029G  KNITTED UNION FLAG HOT WATER BOTTLE         6   \n",
       "4    536365    84029E       RED WOOLLY HOTTIE WHITE HEART.         6   \n",
       "5    536365     22752         SET 7 BABUSHKA NESTING BOXES         2   \n",
       "6    536365     21730    GLASS STAR FROSTED T-LIGHT HOLDER         6   \n",
       "7    536366     22633               HAND WARMER UNION JACK         6   \n",
       "8    536366     22632            HAND WARMER RED POLKA DOT         6   \n",
       "9    536367     84879        ASSORTED COLOUR BIRD ORNAMENT        32   \n",
       "\n",
       "          InvoiceDate  UnitPrice  CustomerID         Country  \n",
       "0 2010-12-01 08:26:00       2.55     17850.0  United Kingdom  \n",
       "1 2010-12-01 08:26:00       3.39     17850.0  United Kingdom  \n",
       "2 2010-12-01 08:26:00       2.75     17850.0  United Kingdom  \n",
       "3 2010-12-01 08:26:00       3.39     17850.0  United Kingdom  \n",
       "4 2010-12-01 08:26:00       3.39     17850.0  United Kingdom  \n",
       "5 2010-12-01 08:26:00       7.65     17850.0  United Kingdom  \n",
       "6 2010-12-01 08:26:00       4.25     17850.0  United Kingdom  \n",
       "7 2010-12-01 08:28:00       1.85     17850.0  United Kingdom  \n",
       "8 2010-12-01 08:28:00       1.85     17850.0  United Kingdom  \n",
       "9 2010-12-01 08:34:00       1.69     13047.0  United Kingdom  "
      ]
     },
     "execution_count": 2,
     "metadata": {},
     "output_type": "execute_result"
    }
   ],
   "source": [
    "df=pd.read_excel('Online Retail.xlsx')\n",
    "df.head(10)"
   ]
  },
  {
   "cell_type": "markdown",
   "metadata": {},
   "source": [
    "## Shape of dataset"
   ]
  },
  {
   "cell_type": "code",
   "execution_count": 3,
   "metadata": {},
   "outputs": [
    {
     "data": {
      "text/plain": [
       "(541909, 8)"
      ]
     },
     "execution_count": 3,
     "metadata": {},
     "output_type": "execute_result"
    }
   ],
   "source": [
    "df.shape"
   ]
  },
  {
   "cell_type": "markdown",
   "metadata": {},
   "source": [
    "**Here, we see that dataset contains 541909 rows and 8 Columns**"
   ]
  },
  {
   "cell_type": "markdown",
   "metadata": {},
   "source": [
    "## Info of dataset"
   ]
  },
  {
   "cell_type": "code",
   "execution_count": 4,
   "metadata": {},
   "outputs": [
    {
     "name": "stdout",
     "output_type": "stream",
     "text": [
      "<class 'pandas.core.frame.DataFrame'>\n",
      "RangeIndex: 541909 entries, 0 to 541908\n",
      "Data columns (total 8 columns):\n",
      " #   Column       Non-Null Count   Dtype         \n",
      "---  ------       --------------   -----         \n",
      " 0   InvoiceNo    541909 non-null  object        \n",
      " 1   StockCode    541909 non-null  object        \n",
      " 2   Description  540455 non-null  object        \n",
      " 3   Quantity     541909 non-null  int64         \n",
      " 4   InvoiceDate  541909 non-null  datetime64[ns]\n",
      " 5   UnitPrice    541909 non-null  float64       \n",
      " 6   CustomerID   406829 non-null  float64       \n",
      " 7   Country      541909 non-null  object        \n",
      "dtypes: datetime64[ns](1), float64(2), int64(1), object(4)\n",
      "memory usage: 33.1+ MB\n"
     ]
    }
   ],
   "source": [
    "df.info()"
   ]
  },
  {
   "cell_type": "markdown",
   "metadata": {},
   "source": [
    "**Here, we see that out of 8 columns 1 is integer type, 1 is datetime, 2 are float type and 4 are object type. we also observe that most of columns don't have null values except  Description and Customer Id**"
   ]
  },
  {
   "cell_type": "code",
   "execution_count": 5,
   "metadata": {},
   "outputs": [
    {
     "data": {
      "text/html": [
       "<div>\n",
       "<style scoped>\n",
       "    .dataframe tbody tr th:only-of-type {\n",
       "        vertical-align: middle;\n",
       "    }\n",
       "\n",
       "    .dataframe tbody tr th {\n",
       "        vertical-align: top;\n",
       "    }\n",
       "\n",
       "    .dataframe thead th {\n",
       "        text-align: right;\n",
       "    }\n",
       "</style>\n",
       "<table border=\"1\" class=\"dataframe\">\n",
       "  <thead>\n",
       "    <tr style=\"text-align: right;\">\n",
       "      <th></th>\n",
       "      <th>count</th>\n",
       "      <th>mean</th>\n",
       "      <th>std</th>\n",
       "      <th>min</th>\n",
       "      <th>25%</th>\n",
       "      <th>50%</th>\n",
       "      <th>75%</th>\n",
       "      <th>max</th>\n",
       "    </tr>\n",
       "  </thead>\n",
       "  <tbody>\n",
       "    <tr>\n",
       "      <th>Quantity</th>\n",
       "      <td>541909.0</td>\n",
       "      <td>9.552250</td>\n",
       "      <td>218.081158</td>\n",
       "      <td>-80995.00</td>\n",
       "      <td>1.00</td>\n",
       "      <td>3.00</td>\n",
       "      <td>10.00</td>\n",
       "      <td>80995.0</td>\n",
       "    </tr>\n",
       "    <tr>\n",
       "      <th>UnitPrice</th>\n",
       "      <td>541909.0</td>\n",
       "      <td>4.611114</td>\n",
       "      <td>96.759853</td>\n",
       "      <td>-11062.06</td>\n",
       "      <td>1.25</td>\n",
       "      <td>2.08</td>\n",
       "      <td>4.13</td>\n",
       "      <td>38970.0</td>\n",
       "    </tr>\n",
       "    <tr>\n",
       "      <th>CustomerID</th>\n",
       "      <td>406829.0</td>\n",
       "      <td>15287.690570</td>\n",
       "      <td>1713.600303</td>\n",
       "      <td>12346.00</td>\n",
       "      <td>13953.00</td>\n",
       "      <td>15152.00</td>\n",
       "      <td>16791.00</td>\n",
       "      <td>18287.0</td>\n",
       "    </tr>\n",
       "  </tbody>\n",
       "</table>\n",
       "</div>"
      ],
      "text/plain": [
       "               count          mean          std       min       25%       50%  \\\n",
       "Quantity    541909.0      9.552250   218.081158 -80995.00      1.00      3.00   \n",
       "UnitPrice   541909.0      4.611114    96.759853 -11062.06      1.25      2.08   \n",
       "CustomerID  406829.0  15287.690570  1713.600303  12346.00  13953.00  15152.00   \n",
       "\n",
       "                 75%      max  \n",
       "Quantity       10.00  80995.0  \n",
       "UnitPrice       4.13  38970.0  \n",
       "CustomerID  16791.00  18287.0  "
      ]
     },
     "execution_count": 5,
     "metadata": {},
     "output_type": "execute_result"
    }
   ],
   "source": [
    "df.describe().T"
   ]
  },
  {
   "cell_type": "markdown",
   "metadata": {},
   "source": [
    "**We see summary of the numerical variables and we observe that mean of Quantity is 9.55 and median of Quantity is 3. so we can say that distribution of Quantity is slightly skewed.<br>\n",
    "We also see that mean of Unit price is 4.61 and median of Unit price is 2.08 which also indicate that distribution of unit price is also skewed one.<br>\n",
    "We also observe that both Quantity and Unit price are facing the outliers problem because if we see 75% value of Quantity and Unit price which is 10 and 4.13 but if we see max value of Quantity and Unit price which is 80995 and 38970.**"
   ]
  },
  {
   "cell_type": "code",
   "execution_count": 6,
   "metadata": {},
   "outputs": [
    {
     "data": {
      "text/plain": [
       "85123A    2313\n",
       "22423     2203\n",
       "85099B    2159\n",
       "47566     1727\n",
       "20725     1639\n",
       "          ... \n",
       "84803A       1\n",
       "46037A       1\n",
       "90181C       1\n",
       "35594        1\n",
       "84424A       1\n",
       "Name: StockCode, Length: 4070, dtype: int64"
      ]
     },
     "execution_count": 6,
     "metadata": {},
     "output_type": "execute_result"
    }
   ],
   "source": [
    "df['StockCode'].value_counts()"
   ]
  },
  {
   "cell_type": "code",
   "execution_count": 7,
   "metadata": {},
   "outputs": [
    {
     "data": {
      "text/plain": [
       "WHITE HANGING HEART T-LIGHT HOLDER    2369\n",
       "REGENCY CAKESTAND 3 TIER              2200\n",
       "JUMBO BAG RED RETROSPOT               2159\n",
       "PARTY BUNTING                         1727\n",
       "LUNCH BAG RED RETROSPOT               1638\n",
       "                                      ... \n",
       "wrongly marked. 23343 in box             1\n",
       "mouldy, unsaleable.                      1\n",
       "BLUE PAINTED KASHMIRI CHAIR              1\n",
       "samples                                  1\n",
       "BREAD BIN, DINER STYLE, IVORY            1\n",
       "Name: Description, Length: 4223, dtype: int64"
      ]
     },
     "execution_count": 7,
     "metadata": {},
     "output_type": "execute_result"
    }
   ],
   "source": [
    "df['Description'].value_counts()"
   ]
  },
  {
   "cell_type": "markdown",
   "metadata": {},
   "source": [
    "**We observe that highest sold product is White Hanging heart T-Light holder about 2369 order,<br> Second highest sold product is Regency cakestand 3 Tier about 2200 order,<br>Third highest sold product is Jumbo Bag red retrospot about 2159 orders,<br>Fourth highest sold product is Party bunting about 1727 orders,<br>Fifth highest sold product is Lunch bag red retrospot about 1638 orders.**"
   ]
  },
  {
   "cell_type": "code",
   "execution_count": 8,
   "metadata": {},
   "outputs": [
    {
     "data": {
      "text/plain": [
       " 1       148227\n",
       " 2        81829\n",
       " 12       61063\n",
       " 6        40868\n",
       " 4        38484\n",
       "          ...  \n",
       " 1287         1\n",
       "-5368         1\n",
       " 267          1\n",
       "-244          1\n",
       " 512          1\n",
       "Name: Quantity, Length: 722, dtype: int64"
      ]
     },
     "execution_count": 8,
     "metadata": {},
     "output_type": "execute_result"
    }
   ],
   "source": [
    "df['Quantity'].value_counts()"
   ]
  },
  {
   "cell_type": "code",
   "execution_count": 9,
   "metadata": {},
   "outputs": [
    {
     "data": {
      "text/plain": [
       "United Kingdom          495478\n",
       "Germany                   9495\n",
       "France                    8557\n",
       "EIRE                      8196\n",
       "Spain                     2533\n",
       "Netherlands               2371\n",
       "Belgium                   2069\n",
       "Switzerland               2002\n",
       "Portugal                  1519\n",
       "Australia                 1259\n",
       "Norway                    1086\n",
       "Italy                      803\n",
       "Channel Islands            758\n",
       "Finland                    695\n",
       "Cyprus                     622\n",
       "Sweden                     462\n",
       "Unspecified                446\n",
       "Austria                    401\n",
       "Denmark                    389\n",
       "Japan                      358\n",
       "Poland                     341\n",
       "Israel                     297\n",
       "USA                        291\n",
       "Hong Kong                  288\n",
       "Singapore                  229\n",
       "Iceland                    182\n",
       "Canada                     151\n",
       "Greece                     146\n",
       "Malta                      127\n",
       "United Arab Emirates        68\n",
       "European Community          61\n",
       "RSA                         58\n",
       "Lebanon                     45\n",
       "Lithuania                   35\n",
       "Brazil                      32\n",
       "Czech Republic              30\n",
       "Bahrain                     19\n",
       "Saudi Arabia                10\n",
       "Name: Country, dtype: int64"
      ]
     },
     "execution_count": 9,
     "metadata": {},
     "output_type": "execute_result"
    }
   ],
   "source": [
    "df['Country'].value_counts()"
   ]
  },
  {
   "cell_type": "markdown",
   "metadata": {},
   "source": [
    "**We see that highest numbers of Transaction done by those customers who are from United kingdom about 495478,<br>Second highest transaction done by those customers who are from germany about 9495,<br>Third highest Transaction done by those customers who are from France about 8557,<br>Fourth highest transaction done by those customers who are from  EIRE about 8196,<br>Fifth highest transaction done by those customers who are from from Spain about 2533.**"
   ]
  },
  {
   "cell_type": "markdown",
   "metadata": {},
   "source": [
    "**We also observe in last 5 rows that customers who are From Lithuania ,Brazil, Czech Republic, Bahrain and Saudi Arabia done very low transaction with retail store.**"
   ]
  },
  {
   "cell_type": "markdown",
   "metadata": {},
   "source": [
    "## Checking null values"
   ]
  },
  {
   "cell_type": "code",
   "execution_count": 10,
   "metadata": {},
   "outputs": [
    {
     "data": {
      "text/plain": [
       "InvoiceNo           0\n",
       "StockCode           0\n",
       "Description      1454\n",
       "Quantity            0\n",
       "InvoiceDate         0\n",
       "UnitPrice           0\n",
       "CustomerID     135080\n",
       "Country             0\n",
       "dtype: int64"
      ]
     },
     "execution_count": 10,
     "metadata": {},
     "output_type": "execute_result"
    }
   ],
   "source": [
    "df.isna().sum()"
   ]
  },
  {
   "cell_type": "code",
   "execution_count": 11,
   "metadata": {},
   "outputs": [
    {
     "data": {
      "text/plain": [
       "CustomerID     0.249267\n",
       "Description    0.002683\n",
       "Country        0.000000\n",
       "UnitPrice      0.000000\n",
       "InvoiceDate    0.000000\n",
       "Quantity       0.000000\n",
       "StockCode      0.000000\n",
       "InvoiceNo      0.000000\n",
       "dtype: float64"
      ]
     },
     "execution_count": 11,
     "metadata": {},
     "output_type": "execute_result"
    }
   ],
   "source": [
    "df.isnull().sum().sort_values(ascending = False)/df.index.size"
   ]
  },
  {
   "cell_type": "markdown",
   "metadata": {},
   "source": [
    "**We see in above two table that Customer ID and Description contain some missing values so, we have to treat that missing values first.**"
   ]
  },
  {
   "cell_type": "markdown",
   "metadata": {},
   "source": [
    "## Null value treatment\n",
    "### For categorical variable we use mode imputation"
   ]
  },
  {
   "cell_type": "code",
   "execution_count": 12,
   "metadata": {},
   "outputs": [],
   "source": [
    "for column in ['Description','CustomerID']:\n",
    "    df[column].fillna(df[column].mode()[0], inplace=True)"
   ]
  },
  {
   "cell_type": "markdown",
   "metadata": {},
   "source": [
    "**For treatment of missing values we use the mode imputation method because description is categorical column and customer id is unique column so mode imputation is better for this two columns.**"
   ]
  },
  {
   "cell_type": "code",
   "execution_count": 13,
   "metadata": {},
   "outputs": [
    {
     "data": {
      "text/plain": [
       "InvoiceNo      0\n",
       "StockCode      0\n",
       "Description    0\n",
       "Quantity       0\n",
       "InvoiceDate    0\n",
       "UnitPrice      0\n",
       "CustomerID     0\n",
       "Country        0\n",
       "dtype: int64"
      ]
     },
     "execution_count": 13,
     "metadata": {},
     "output_type": "execute_result"
    }
   ],
   "source": [
    "df.isna().sum()"
   ]
  },
  {
   "cell_type": "markdown",
   "metadata": {},
   "source": [
    "**We see in above table that now no such missing values are present in dataset**"
   ]
  },
  {
   "cell_type": "markdown",
   "metadata": {},
   "source": [
    "## Checking duplicate data"
   ]
  },
  {
   "cell_type": "code",
   "execution_count": 14,
   "metadata": {},
   "outputs": [
    {
     "data": {
      "text/plain": [
       "5268"
      ]
     },
     "execution_count": 14,
     "metadata": {},
     "output_type": "execute_result"
    }
   ],
   "source": [
    "df.duplicated().sum()"
   ]
  },
  {
   "cell_type": "code",
   "execution_count": 15,
   "metadata": {},
   "outputs": [
    {
     "data": {
      "text/html": [
       "<div>\n",
       "<style scoped>\n",
       "    .dataframe tbody tr th:only-of-type {\n",
       "        vertical-align: middle;\n",
       "    }\n",
       "\n",
       "    .dataframe tbody tr th {\n",
       "        vertical-align: top;\n",
       "    }\n",
       "\n",
       "    .dataframe thead th {\n",
       "        text-align: right;\n",
       "    }\n",
       "</style>\n",
       "<table border=\"1\" class=\"dataframe\">\n",
       "  <thead>\n",
       "    <tr style=\"text-align: right;\">\n",
       "      <th></th>\n",
       "      <th>InvoiceNo</th>\n",
       "      <th>StockCode</th>\n",
       "      <th>Description</th>\n",
       "      <th>Quantity</th>\n",
       "      <th>InvoiceDate</th>\n",
       "      <th>UnitPrice</th>\n",
       "      <th>CustomerID</th>\n",
       "    </tr>\n",
       "    <tr>\n",
       "      <th>Country</th>\n",
       "      <th></th>\n",
       "      <th></th>\n",
       "      <th></th>\n",
       "      <th></th>\n",
       "      <th></th>\n",
       "      <th></th>\n",
       "      <th></th>\n",
       "    </tr>\n",
       "  </thead>\n",
       "  <tbody>\n",
       "    <tr>\n",
       "      <th>United Kingdom</th>\n",
       "      <td>495478</td>\n",
       "      <td>495478</td>\n",
       "      <td>495478</td>\n",
       "      <td>495478</td>\n",
       "      <td>495478</td>\n",
       "      <td>495478</td>\n",
       "      <td>495478</td>\n",
       "    </tr>\n",
       "    <tr>\n",
       "      <th>Germany</th>\n",
       "      <td>9495</td>\n",
       "      <td>9495</td>\n",
       "      <td>9495</td>\n",
       "      <td>9495</td>\n",
       "      <td>9495</td>\n",
       "      <td>9495</td>\n",
       "      <td>9495</td>\n",
       "    </tr>\n",
       "    <tr>\n",
       "      <th>France</th>\n",
       "      <td>8557</td>\n",
       "      <td>8557</td>\n",
       "      <td>8557</td>\n",
       "      <td>8557</td>\n",
       "      <td>8557</td>\n",
       "      <td>8557</td>\n",
       "      <td>8557</td>\n",
       "    </tr>\n",
       "    <tr>\n",
       "      <th>EIRE</th>\n",
       "      <td>8196</td>\n",
       "      <td>8196</td>\n",
       "      <td>8196</td>\n",
       "      <td>8196</td>\n",
       "      <td>8196</td>\n",
       "      <td>8196</td>\n",
       "      <td>8196</td>\n",
       "    </tr>\n",
       "    <tr>\n",
       "      <th>Spain</th>\n",
       "      <td>2533</td>\n",
       "      <td>2533</td>\n",
       "      <td>2533</td>\n",
       "      <td>2533</td>\n",
       "      <td>2533</td>\n",
       "      <td>2533</td>\n",
       "      <td>2533</td>\n",
       "    </tr>\n",
       "    <tr>\n",
       "      <th>Netherlands</th>\n",
       "      <td>2371</td>\n",
       "      <td>2371</td>\n",
       "      <td>2371</td>\n",
       "      <td>2371</td>\n",
       "      <td>2371</td>\n",
       "      <td>2371</td>\n",
       "      <td>2371</td>\n",
       "    </tr>\n",
       "    <tr>\n",
       "      <th>Belgium</th>\n",
       "      <td>2069</td>\n",
       "      <td>2069</td>\n",
       "      <td>2069</td>\n",
       "      <td>2069</td>\n",
       "      <td>2069</td>\n",
       "      <td>2069</td>\n",
       "      <td>2069</td>\n",
       "    </tr>\n",
       "    <tr>\n",
       "      <th>Switzerland</th>\n",
       "      <td>2002</td>\n",
       "      <td>2002</td>\n",
       "      <td>2002</td>\n",
       "      <td>2002</td>\n",
       "      <td>2002</td>\n",
       "      <td>2002</td>\n",
       "      <td>2002</td>\n",
       "    </tr>\n",
       "    <tr>\n",
       "      <th>Portugal</th>\n",
       "      <td>1519</td>\n",
       "      <td>1519</td>\n",
       "      <td>1519</td>\n",
       "      <td>1519</td>\n",
       "      <td>1519</td>\n",
       "      <td>1519</td>\n",
       "      <td>1519</td>\n",
       "    </tr>\n",
       "    <tr>\n",
       "      <th>Australia</th>\n",
       "      <td>1259</td>\n",
       "      <td>1259</td>\n",
       "      <td>1259</td>\n",
       "      <td>1259</td>\n",
       "      <td>1259</td>\n",
       "      <td>1259</td>\n",
       "      <td>1259</td>\n",
       "    </tr>\n",
       "    <tr>\n",
       "      <th>Norway</th>\n",
       "      <td>1086</td>\n",
       "      <td>1086</td>\n",
       "      <td>1086</td>\n",
       "      <td>1086</td>\n",
       "      <td>1086</td>\n",
       "      <td>1086</td>\n",
       "      <td>1086</td>\n",
       "    </tr>\n",
       "    <tr>\n",
       "      <th>Italy</th>\n",
       "      <td>803</td>\n",
       "      <td>803</td>\n",
       "      <td>803</td>\n",
       "      <td>803</td>\n",
       "      <td>803</td>\n",
       "      <td>803</td>\n",
       "      <td>803</td>\n",
       "    </tr>\n",
       "    <tr>\n",
       "      <th>Channel Islands</th>\n",
       "      <td>758</td>\n",
       "      <td>758</td>\n",
       "      <td>758</td>\n",
       "      <td>758</td>\n",
       "      <td>758</td>\n",
       "      <td>758</td>\n",
       "      <td>758</td>\n",
       "    </tr>\n",
       "    <tr>\n",
       "      <th>Finland</th>\n",
       "      <td>695</td>\n",
       "      <td>695</td>\n",
       "      <td>695</td>\n",
       "      <td>695</td>\n",
       "      <td>695</td>\n",
       "      <td>695</td>\n",
       "      <td>695</td>\n",
       "    </tr>\n",
       "    <tr>\n",
       "      <th>Cyprus</th>\n",
       "      <td>622</td>\n",
       "      <td>622</td>\n",
       "      <td>622</td>\n",
       "      <td>622</td>\n",
       "      <td>622</td>\n",
       "      <td>622</td>\n",
       "      <td>622</td>\n",
       "    </tr>\n",
       "    <tr>\n",
       "      <th>Sweden</th>\n",
       "      <td>462</td>\n",
       "      <td>462</td>\n",
       "      <td>462</td>\n",
       "      <td>462</td>\n",
       "      <td>462</td>\n",
       "      <td>462</td>\n",
       "      <td>462</td>\n",
       "    </tr>\n",
       "    <tr>\n",
       "      <th>Unspecified</th>\n",
       "      <td>446</td>\n",
       "      <td>446</td>\n",
       "      <td>446</td>\n",
       "      <td>446</td>\n",
       "      <td>446</td>\n",
       "      <td>446</td>\n",
       "      <td>446</td>\n",
       "    </tr>\n",
       "    <tr>\n",
       "      <th>Austria</th>\n",
       "      <td>401</td>\n",
       "      <td>401</td>\n",
       "      <td>401</td>\n",
       "      <td>401</td>\n",
       "      <td>401</td>\n",
       "      <td>401</td>\n",
       "      <td>401</td>\n",
       "    </tr>\n",
       "    <tr>\n",
       "      <th>Denmark</th>\n",
       "      <td>389</td>\n",
       "      <td>389</td>\n",
       "      <td>389</td>\n",
       "      <td>389</td>\n",
       "      <td>389</td>\n",
       "      <td>389</td>\n",
       "      <td>389</td>\n",
       "    </tr>\n",
       "    <tr>\n",
       "      <th>Japan</th>\n",
       "      <td>358</td>\n",
       "      <td>358</td>\n",
       "      <td>358</td>\n",
       "      <td>358</td>\n",
       "      <td>358</td>\n",
       "      <td>358</td>\n",
       "      <td>358</td>\n",
       "    </tr>\n",
       "    <tr>\n",
       "      <th>Poland</th>\n",
       "      <td>341</td>\n",
       "      <td>341</td>\n",
       "      <td>341</td>\n",
       "      <td>341</td>\n",
       "      <td>341</td>\n",
       "      <td>341</td>\n",
       "      <td>341</td>\n",
       "    </tr>\n",
       "    <tr>\n",
       "      <th>Israel</th>\n",
       "      <td>297</td>\n",
       "      <td>297</td>\n",
       "      <td>297</td>\n",
       "      <td>297</td>\n",
       "      <td>297</td>\n",
       "      <td>297</td>\n",
       "      <td>297</td>\n",
       "    </tr>\n",
       "    <tr>\n",
       "      <th>USA</th>\n",
       "      <td>291</td>\n",
       "      <td>291</td>\n",
       "      <td>291</td>\n",
       "      <td>291</td>\n",
       "      <td>291</td>\n",
       "      <td>291</td>\n",
       "      <td>291</td>\n",
       "    </tr>\n",
       "    <tr>\n",
       "      <th>Hong Kong</th>\n",
       "      <td>288</td>\n",
       "      <td>288</td>\n",
       "      <td>288</td>\n",
       "      <td>288</td>\n",
       "      <td>288</td>\n",
       "      <td>288</td>\n",
       "      <td>288</td>\n",
       "    </tr>\n",
       "    <tr>\n",
       "      <th>Singapore</th>\n",
       "      <td>229</td>\n",
       "      <td>229</td>\n",
       "      <td>229</td>\n",
       "      <td>229</td>\n",
       "      <td>229</td>\n",
       "      <td>229</td>\n",
       "      <td>229</td>\n",
       "    </tr>\n",
       "    <tr>\n",
       "      <th>Iceland</th>\n",
       "      <td>182</td>\n",
       "      <td>182</td>\n",
       "      <td>182</td>\n",
       "      <td>182</td>\n",
       "      <td>182</td>\n",
       "      <td>182</td>\n",
       "      <td>182</td>\n",
       "    </tr>\n",
       "    <tr>\n",
       "      <th>Canada</th>\n",
       "      <td>151</td>\n",
       "      <td>151</td>\n",
       "      <td>151</td>\n",
       "      <td>151</td>\n",
       "      <td>151</td>\n",
       "      <td>151</td>\n",
       "      <td>151</td>\n",
       "    </tr>\n",
       "    <tr>\n",
       "      <th>Greece</th>\n",
       "      <td>146</td>\n",
       "      <td>146</td>\n",
       "      <td>146</td>\n",
       "      <td>146</td>\n",
       "      <td>146</td>\n",
       "      <td>146</td>\n",
       "      <td>146</td>\n",
       "    </tr>\n",
       "    <tr>\n",
       "      <th>Malta</th>\n",
       "      <td>127</td>\n",
       "      <td>127</td>\n",
       "      <td>127</td>\n",
       "      <td>127</td>\n",
       "      <td>127</td>\n",
       "      <td>127</td>\n",
       "      <td>127</td>\n",
       "    </tr>\n",
       "    <tr>\n",
       "      <th>United Arab Emirates</th>\n",
       "      <td>68</td>\n",
       "      <td>68</td>\n",
       "      <td>68</td>\n",
       "      <td>68</td>\n",
       "      <td>68</td>\n",
       "      <td>68</td>\n",
       "      <td>68</td>\n",
       "    </tr>\n",
       "    <tr>\n",
       "      <th>European Community</th>\n",
       "      <td>61</td>\n",
       "      <td>61</td>\n",
       "      <td>61</td>\n",
       "      <td>61</td>\n",
       "      <td>61</td>\n",
       "      <td>61</td>\n",
       "      <td>61</td>\n",
       "    </tr>\n",
       "    <tr>\n",
       "      <th>RSA</th>\n",
       "      <td>58</td>\n",
       "      <td>58</td>\n",
       "      <td>58</td>\n",
       "      <td>58</td>\n",
       "      <td>58</td>\n",
       "      <td>58</td>\n",
       "      <td>58</td>\n",
       "    </tr>\n",
       "    <tr>\n",
       "      <th>Lebanon</th>\n",
       "      <td>45</td>\n",
       "      <td>45</td>\n",
       "      <td>45</td>\n",
       "      <td>45</td>\n",
       "      <td>45</td>\n",
       "      <td>45</td>\n",
       "      <td>45</td>\n",
       "    </tr>\n",
       "    <tr>\n",
       "      <th>Lithuania</th>\n",
       "      <td>35</td>\n",
       "      <td>35</td>\n",
       "      <td>35</td>\n",
       "      <td>35</td>\n",
       "      <td>35</td>\n",
       "      <td>35</td>\n",
       "      <td>35</td>\n",
       "    </tr>\n",
       "    <tr>\n",
       "      <th>Brazil</th>\n",
       "      <td>32</td>\n",
       "      <td>32</td>\n",
       "      <td>32</td>\n",
       "      <td>32</td>\n",
       "      <td>32</td>\n",
       "      <td>32</td>\n",
       "      <td>32</td>\n",
       "    </tr>\n",
       "    <tr>\n",
       "      <th>Czech Republic</th>\n",
       "      <td>30</td>\n",
       "      <td>30</td>\n",
       "      <td>30</td>\n",
       "      <td>30</td>\n",
       "      <td>30</td>\n",
       "      <td>30</td>\n",
       "      <td>30</td>\n",
       "    </tr>\n",
       "    <tr>\n",
       "      <th>Bahrain</th>\n",
       "      <td>19</td>\n",
       "      <td>19</td>\n",
       "      <td>19</td>\n",
       "      <td>19</td>\n",
       "      <td>19</td>\n",
       "      <td>19</td>\n",
       "      <td>19</td>\n",
       "    </tr>\n",
       "    <tr>\n",
       "      <th>Saudi Arabia</th>\n",
       "      <td>10</td>\n",
       "      <td>10</td>\n",
       "      <td>10</td>\n",
       "      <td>10</td>\n",
       "      <td>10</td>\n",
       "      <td>10</td>\n",
       "      <td>10</td>\n",
       "    </tr>\n",
       "  </tbody>\n",
       "</table>\n",
       "</div>"
      ],
      "text/plain": [
       "                      InvoiceNo  StockCode  Description  Quantity  \\\n",
       "Country                                                             \n",
       "United Kingdom           495478     495478       495478    495478   \n",
       "Germany                    9495       9495         9495      9495   \n",
       "France                     8557       8557         8557      8557   \n",
       "EIRE                       8196       8196         8196      8196   \n",
       "Spain                      2533       2533         2533      2533   \n",
       "Netherlands                2371       2371         2371      2371   \n",
       "Belgium                    2069       2069         2069      2069   \n",
       "Switzerland                2002       2002         2002      2002   \n",
       "Portugal                   1519       1519         1519      1519   \n",
       "Australia                  1259       1259         1259      1259   \n",
       "Norway                     1086       1086         1086      1086   \n",
       "Italy                       803        803          803       803   \n",
       "Channel Islands             758        758          758       758   \n",
       "Finland                     695        695          695       695   \n",
       "Cyprus                      622        622          622       622   \n",
       "Sweden                      462        462          462       462   \n",
       "Unspecified                 446        446          446       446   \n",
       "Austria                     401        401          401       401   \n",
       "Denmark                     389        389          389       389   \n",
       "Japan                       358        358          358       358   \n",
       "Poland                      341        341          341       341   \n",
       "Israel                      297        297          297       297   \n",
       "USA                         291        291          291       291   \n",
       "Hong Kong                   288        288          288       288   \n",
       "Singapore                   229        229          229       229   \n",
       "Iceland                     182        182          182       182   \n",
       "Canada                      151        151          151       151   \n",
       "Greece                      146        146          146       146   \n",
       "Malta                       127        127          127       127   \n",
       "United Arab Emirates         68         68           68        68   \n",
       "European Community           61         61           61        61   \n",
       "RSA                          58         58           58        58   \n",
       "Lebanon                      45         45           45        45   \n",
       "Lithuania                    35         35           35        35   \n",
       "Brazil                       32         32           32        32   \n",
       "Czech Republic               30         30           30        30   \n",
       "Bahrain                      19         19           19        19   \n",
       "Saudi Arabia                 10         10           10        10   \n",
       "\n",
       "                      InvoiceDate  UnitPrice  CustomerID  \n",
       "Country                                                   \n",
       "United Kingdom             495478     495478      495478  \n",
       "Germany                      9495       9495        9495  \n",
       "France                       8557       8557        8557  \n",
       "EIRE                         8196       8196        8196  \n",
       "Spain                        2533       2533        2533  \n",
       "Netherlands                  2371       2371        2371  \n",
       "Belgium                      2069       2069        2069  \n",
       "Switzerland                  2002       2002        2002  \n",
       "Portugal                     1519       1519        1519  \n",
       "Australia                    1259       1259        1259  \n",
       "Norway                       1086       1086        1086  \n",
       "Italy                         803        803         803  \n",
       "Channel Islands               758        758         758  \n",
       "Finland                       695        695         695  \n",
       "Cyprus                        622        622         622  \n",
       "Sweden                        462        462         462  \n",
       "Unspecified                   446        446         446  \n",
       "Austria                       401        401         401  \n",
       "Denmark                       389        389         389  \n",
       "Japan                         358        358         358  \n",
       "Poland                        341        341         341  \n",
       "Israel                        297        297         297  \n",
       "USA                           291        291         291  \n",
       "Hong Kong                     288        288         288  \n",
       "Singapore                     229        229         229  \n",
       "Iceland                       182        182         182  \n",
       "Canada                        151        151         151  \n",
       "Greece                        146        146         146  \n",
       "Malta                         127        127         127  \n",
       "United Arab Emirates           68         68          68  \n",
       "European Community             61         61          61  \n",
       "RSA                            58         58          58  \n",
       "Lebanon                        45         45          45  \n",
       "Lithuania                      35         35          35  \n",
       "Brazil                         32         32          32  \n",
       "Czech Republic                 30         30          30  \n",
       "Bahrain                        19         19          19  \n",
       "Saudi Arabia                   10         10          10  "
      ]
     },
     "execution_count": 15,
     "metadata": {},
     "output_type": "execute_result"
    }
   ],
   "source": [
    "df.groupby('Country').count().sort_values('Quantity',ascending=False)"
   ]
  },
  {
   "cell_type": "markdown",
   "metadata": {},
   "source": [
    "**We observe top 5 countries customers who done  highest transactions with retail store and these are the name of countries:<br> First is United kingdom about,<br>Second is germany,<br>Third is France,<br>Fourth is EIRE,<br>Fifth is Spain.**\n",
    "\n",
    "**We also observe last 5 countries and customers from these countries are done very low transaction with retail store and these are the name of those countries:<br>Lithuania , <br>Brazil,<br> Czech Republic,<br> Bahrain<br> and Saudi Arabia.**"
   ]
  },
  {
   "cell_type": "code",
   "execution_count": 16,
   "metadata": {},
   "outputs": [
    {
     "data": {
      "text/html": [
       "<div>\n",
       "<style scoped>\n",
       "    .dataframe tbody tr th:only-of-type {\n",
       "        vertical-align: middle;\n",
       "    }\n",
       "\n",
       "    .dataframe tbody tr th {\n",
       "        vertical-align: top;\n",
       "    }\n",
       "\n",
       "    .dataframe thead th {\n",
       "        text-align: right;\n",
       "    }\n",
       "</style>\n",
       "<table border=\"1\" class=\"dataframe\">\n",
       "  <thead>\n",
       "    <tr style=\"text-align: right;\">\n",
       "      <th></th>\n",
       "      <th>Quantity</th>\n",
       "      <th>UnitPrice</th>\n",
       "      <th>CustomerID</th>\n",
       "    </tr>\n",
       "    <tr>\n",
       "      <th>Country</th>\n",
       "      <th></th>\n",
       "      <th></th>\n",
       "      <th></th>\n",
       "    </tr>\n",
       "  </thead>\n",
       "  <tbody>\n",
       "    <tr>\n",
       "      <th>Netherlands</th>\n",
       "      <td>84.406580</td>\n",
       "      <td>2.738317</td>\n",
       "      <td>14420.302826</td>\n",
       "    </tr>\n",
       "    <tr>\n",
       "      <th>Sweden</th>\n",
       "      <td>77.136364</td>\n",
       "      <td>3.910887</td>\n",
       "      <td>14697.149351</td>\n",
       "    </tr>\n",
       "    <tr>\n",
       "      <th>Japan</th>\n",
       "      <td>70.441341</td>\n",
       "      <td>2.276145</td>\n",
       "      <td>12757.798883</td>\n",
       "    </tr>\n",
       "    <tr>\n",
       "      <th>Australia</th>\n",
       "      <td>66.444003</td>\n",
       "      <td>3.220612</td>\n",
       "      <td>12464.656076</td>\n",
       "    </tr>\n",
       "    <tr>\n",
       "      <th>Singapore</th>\n",
       "      <td>22.855895</td>\n",
       "      <td>109.645808</td>\n",
       "      <td>12744.000000</td>\n",
       "    </tr>\n",
       "    <tr>\n",
       "      <th>Denmark</th>\n",
       "      <td>21.048843</td>\n",
       "      <td>3.256941</td>\n",
       "      <td>12536.591260</td>\n",
       "    </tr>\n",
       "    <tr>\n",
       "      <th>Czech Republic</th>\n",
       "      <td>19.733333</td>\n",
       "      <td>2.938333</td>\n",
       "      <td>12781.000000</td>\n",
       "    </tr>\n",
       "    <tr>\n",
       "      <th>Lithuania</th>\n",
       "      <td>18.628571</td>\n",
       "      <td>2.841143</td>\n",
       "      <td>15332.000000</td>\n",
       "    </tr>\n",
       "    <tr>\n",
       "      <th>Canada</th>\n",
       "      <td>18.298013</td>\n",
       "      <td>6.030331</td>\n",
       "      <td>17321.079470</td>\n",
       "    </tr>\n",
       "    <tr>\n",
       "      <th>Norway</th>\n",
       "      <td>17.722836</td>\n",
       "      <td>6.012026</td>\n",
       "      <td>12437.984346</td>\n",
       "    </tr>\n",
       "    <tr>\n",
       "      <th>EIRE</th>\n",
       "      <td>17.403245</td>\n",
       "      <td>5.911077</td>\n",
       "      <td>15016.678380</td>\n",
       "    </tr>\n",
       "    <tr>\n",
       "      <th>Hong Kong</th>\n",
       "      <td>16.559028</td>\n",
       "      <td>42.505208</td>\n",
       "      <td>17841.000000</td>\n",
       "    </tr>\n",
       "    <tr>\n",
       "      <th>Finland</th>\n",
       "      <td>15.346763</td>\n",
       "      <td>5.448705</td>\n",
       "      <td>12517.012950</td>\n",
       "    </tr>\n",
       "    <tr>\n",
       "      <th>Switzerland</th>\n",
       "      <td>15.147353</td>\n",
       "      <td>3.403442</td>\n",
       "      <td>12990.030470</td>\n",
       "    </tr>\n",
       "    <tr>\n",
       "      <th>Israel</th>\n",
       "      <td>14.656566</td>\n",
       "      <td>3.633131</td>\n",
       "      <td>13478.094276</td>\n",
       "    </tr>\n",
       "    <tr>\n",
       "      <th>United Arab Emirates</th>\n",
       "      <td>14.441176</td>\n",
       "      <td>3.380735</td>\n",
       "      <td>14984.588235</td>\n",
       "    </tr>\n",
       "    <tr>\n",
       "      <th>Bahrain</th>\n",
       "      <td>13.684211</td>\n",
       "      <td>4.556316</td>\n",
       "      <td>12932.052632</td>\n",
       "    </tr>\n",
       "    <tr>\n",
       "      <th>Iceland</th>\n",
       "      <td>13.505495</td>\n",
       "      <td>2.644011</td>\n",
       "      <td>12347.000000</td>\n",
       "    </tr>\n",
       "    <tr>\n",
       "      <th>France</th>\n",
       "      <td>12.911067</td>\n",
       "      <td>5.028864</td>\n",
       "      <td>12717.818161</td>\n",
       "    </tr>\n",
       "    <tr>\n",
       "      <th>Channel Islands</th>\n",
       "      <td>12.505277</td>\n",
       "      <td>4.932124</td>\n",
       "      <td>14888.151715</td>\n",
       "    </tr>\n",
       "    <tr>\n",
       "      <th>Germany</th>\n",
       "      <td>12.369458</td>\n",
       "      <td>3.966930</td>\n",
       "      <td>12646.139336</td>\n",
       "    </tr>\n",
       "    <tr>\n",
       "      <th>Austria</th>\n",
       "      <td>12.037406</td>\n",
       "      <td>4.243192</td>\n",
       "      <td>12521.451372</td>\n",
       "    </tr>\n",
       "    <tr>\n",
       "      <th>Belgium</th>\n",
       "      <td>11.189947</td>\n",
       "      <td>3.644335</td>\n",
       "      <td>12430.298695</td>\n",
       "    </tr>\n",
       "    <tr>\n",
       "      <th>Brazil</th>\n",
       "      <td>11.125000</td>\n",
       "      <td>4.456250</td>\n",
       "      <td>12769.000000</td>\n",
       "    </tr>\n",
       "    <tr>\n",
       "      <th>Poland</th>\n",
       "      <td>10.712610</td>\n",
       "      <td>4.170880</td>\n",
       "      <td>12733.055718</td>\n",
       "    </tr>\n",
       "    <tr>\n",
       "      <th>Greece</th>\n",
       "      <td>10.657534</td>\n",
       "      <td>4.885548</td>\n",
       "      <td>13757.424658</td>\n",
       "    </tr>\n",
       "    <tr>\n",
       "      <th>Portugal</th>\n",
       "      <td>10.651745</td>\n",
       "      <td>8.582976</td>\n",
       "      <td>12877.287031</td>\n",
       "    </tr>\n",
       "    <tr>\n",
       "      <th>Spain</th>\n",
       "      <td>10.589814</td>\n",
       "      <td>4.987544</td>\n",
       "      <td>12905.365574</td>\n",
       "    </tr>\n",
       "    <tr>\n",
       "      <th>Cyprus</th>\n",
       "      <td>10.155949</td>\n",
       "      <td>6.302363</td>\n",
       "      <td>12404.951768</td>\n",
       "    </tr>\n",
       "    <tr>\n",
       "      <th>Italy</th>\n",
       "      <td>9.961395</td>\n",
       "      <td>4.831121</td>\n",
       "      <td>12648.397260</td>\n",
       "    </tr>\n",
       "    <tr>\n",
       "      <th>United Kingdom</th>\n",
       "      <td>8.605486</td>\n",
       "      <td>4.532422</td>\n",
       "      <td>16166.187389</td>\n",
       "    </tr>\n",
       "    <tr>\n",
       "      <th>Lebanon</th>\n",
       "      <td>8.577778</td>\n",
       "      <td>5.387556</td>\n",
       "      <td>12764.000000</td>\n",
       "    </tr>\n",
       "    <tr>\n",
       "      <th>European Community</th>\n",
       "      <td>8.147541</td>\n",
       "      <td>4.820492</td>\n",
       "      <td>15108.000000</td>\n",
       "    </tr>\n",
       "    <tr>\n",
       "      <th>Saudi Arabia</th>\n",
       "      <td>7.500000</td>\n",
       "      <td>2.411000</td>\n",
       "      <td>12565.000000</td>\n",
       "    </tr>\n",
       "    <tr>\n",
       "      <th>Malta</th>\n",
       "      <td>7.433071</td>\n",
       "      <td>5.244173</td>\n",
       "      <td>16996.031496</td>\n",
       "    </tr>\n",
       "    <tr>\n",
       "      <th>Unspecified</th>\n",
       "      <td>7.399103</td>\n",
       "      <td>2.699574</td>\n",
       "      <td>15587.282511</td>\n",
       "    </tr>\n",
       "    <tr>\n",
       "      <th>RSA</th>\n",
       "      <td>6.068966</td>\n",
       "      <td>4.277586</td>\n",
       "      <td>12446.000000</td>\n",
       "    </tr>\n",
       "    <tr>\n",
       "      <th>USA</th>\n",
       "      <td>3.553265</td>\n",
       "      <td>2.216426</td>\n",
       "      <td>12618.852234</td>\n",
       "    </tr>\n",
       "  </tbody>\n",
       "</table>\n",
       "</div>"
      ],
      "text/plain": [
       "                       Quantity   UnitPrice    CustomerID\n",
       "Country                                                  \n",
       "Netherlands           84.406580    2.738317  14420.302826\n",
       "Sweden                77.136364    3.910887  14697.149351\n",
       "Japan                 70.441341    2.276145  12757.798883\n",
       "Australia             66.444003    3.220612  12464.656076\n",
       "Singapore             22.855895  109.645808  12744.000000\n",
       "Denmark               21.048843    3.256941  12536.591260\n",
       "Czech Republic        19.733333    2.938333  12781.000000\n",
       "Lithuania             18.628571    2.841143  15332.000000\n",
       "Canada                18.298013    6.030331  17321.079470\n",
       "Norway                17.722836    6.012026  12437.984346\n",
       "EIRE                  17.403245    5.911077  15016.678380\n",
       "Hong Kong             16.559028   42.505208  17841.000000\n",
       "Finland               15.346763    5.448705  12517.012950\n",
       "Switzerland           15.147353    3.403442  12990.030470\n",
       "Israel                14.656566    3.633131  13478.094276\n",
       "United Arab Emirates  14.441176    3.380735  14984.588235\n",
       "Bahrain               13.684211    4.556316  12932.052632\n",
       "Iceland               13.505495    2.644011  12347.000000\n",
       "France                12.911067    5.028864  12717.818161\n",
       "Channel Islands       12.505277    4.932124  14888.151715\n",
       "Germany               12.369458    3.966930  12646.139336\n",
       "Austria               12.037406    4.243192  12521.451372\n",
       "Belgium               11.189947    3.644335  12430.298695\n",
       "Brazil                11.125000    4.456250  12769.000000\n",
       "Poland                10.712610    4.170880  12733.055718\n",
       "Greece                10.657534    4.885548  13757.424658\n",
       "Portugal              10.651745    8.582976  12877.287031\n",
       "Spain                 10.589814    4.987544  12905.365574\n",
       "Cyprus                10.155949    6.302363  12404.951768\n",
       "Italy                  9.961395    4.831121  12648.397260\n",
       "United Kingdom         8.605486    4.532422  16166.187389\n",
       "Lebanon                8.577778    5.387556  12764.000000\n",
       "European Community     8.147541    4.820492  15108.000000\n",
       "Saudi Arabia           7.500000    2.411000  12565.000000\n",
       "Malta                  7.433071    5.244173  16996.031496\n",
       "Unspecified            7.399103    2.699574  15587.282511\n",
       "RSA                    6.068966    4.277586  12446.000000\n",
       "USA                    3.553265    2.216426  12618.852234"
      ]
     },
     "execution_count": 16,
     "metadata": {},
     "output_type": "execute_result"
    }
   ],
   "source": [
    "df.groupby('Country').mean().sort_values('Quantity',ascending=False)"
   ]
  },
  {
   "cell_type": "markdown",
   "metadata": {},
   "source": [
    "**We see in above table that highest average quantity order by those customers who are from Netherlands about 84.406580,<br> Second highest average quantity order by those customers who are from Sweden about 77.136364,<br> Third highest average quantity order by those customers who are from Japan about 70.441341,<br> Fourth highest average quantity order by those customers who are from Australia about 66.444003,<br> Fifth highest average quantity order by those customers who are from Singapore about 22.855895.**"
   ]
  },
  {
   "cell_type": "markdown",
   "metadata": {},
   "source": [
    "**We see in above table that Lowest avreage quantity order by those customers who are from USA about 3.553265,<br>\n",
    "Second Lowest average quantity order by those customers who are from RSA about 6.068966,<br>\n",
    "Third Lowest average quantity order by those customers who are belong to Unspecified about 7.399103,<br>\n",
    "Fourth Lowest average quantity order by those customers who are from Malta about 7.433071,<br>\n",
    "Fifth Lowest average quantity order by those customers who are from Saudi Arabia about 7.500000.**\n"
   ]
  },
  {
   "cell_type": "code",
   "execution_count": 17,
   "metadata": {},
   "outputs": [
    {
     "data": {
      "text/html": [
       "<div>\n",
       "<style scoped>\n",
       "    .dataframe tbody tr th:only-of-type {\n",
       "        vertical-align: middle;\n",
       "    }\n",
       "\n",
       "    .dataframe tbody tr th {\n",
       "        vertical-align: top;\n",
       "    }\n",
       "\n",
       "    .dataframe thead th {\n",
       "        text-align: right;\n",
       "    }\n",
       "</style>\n",
       "<table border=\"1\" class=\"dataframe\">\n",
       "  <thead>\n",
       "    <tr style=\"text-align: right;\">\n",
       "      <th></th>\n",
       "      <th>Quantity</th>\n",
       "      <th>UnitPrice</th>\n",
       "      <th>CustomerID</th>\n",
       "    </tr>\n",
       "    <tr>\n",
       "      <th>Country</th>\n",
       "      <th></th>\n",
       "      <th></th>\n",
       "      <th></th>\n",
       "    </tr>\n",
       "  </thead>\n",
       "  <tbody>\n",
       "    <tr>\n",
       "      <th>Singapore</th>\n",
       "      <td>22.855895</td>\n",
       "      <td>109.645808</td>\n",
       "      <td>12744.000000</td>\n",
       "    </tr>\n",
       "    <tr>\n",
       "      <th>Hong Kong</th>\n",
       "      <td>16.559028</td>\n",
       "      <td>42.505208</td>\n",
       "      <td>17841.000000</td>\n",
       "    </tr>\n",
       "    <tr>\n",
       "      <th>Portugal</th>\n",
       "      <td>10.651745</td>\n",
       "      <td>8.582976</td>\n",
       "      <td>12877.287031</td>\n",
       "    </tr>\n",
       "    <tr>\n",
       "      <th>Cyprus</th>\n",
       "      <td>10.155949</td>\n",
       "      <td>6.302363</td>\n",
       "      <td>12404.951768</td>\n",
       "    </tr>\n",
       "    <tr>\n",
       "      <th>Canada</th>\n",
       "      <td>18.298013</td>\n",
       "      <td>6.030331</td>\n",
       "      <td>17321.079470</td>\n",
       "    </tr>\n",
       "    <tr>\n",
       "      <th>Norway</th>\n",
       "      <td>17.722836</td>\n",
       "      <td>6.012026</td>\n",
       "      <td>12437.984346</td>\n",
       "    </tr>\n",
       "    <tr>\n",
       "      <th>EIRE</th>\n",
       "      <td>17.403245</td>\n",
       "      <td>5.911077</td>\n",
       "      <td>15016.678380</td>\n",
       "    </tr>\n",
       "    <tr>\n",
       "      <th>Finland</th>\n",
       "      <td>15.346763</td>\n",
       "      <td>5.448705</td>\n",
       "      <td>12517.012950</td>\n",
       "    </tr>\n",
       "    <tr>\n",
       "      <th>Lebanon</th>\n",
       "      <td>8.577778</td>\n",
       "      <td>5.387556</td>\n",
       "      <td>12764.000000</td>\n",
       "    </tr>\n",
       "    <tr>\n",
       "      <th>Malta</th>\n",
       "      <td>7.433071</td>\n",
       "      <td>5.244173</td>\n",
       "      <td>16996.031496</td>\n",
       "    </tr>\n",
       "    <tr>\n",
       "      <th>France</th>\n",
       "      <td>12.911067</td>\n",
       "      <td>5.028864</td>\n",
       "      <td>12717.818161</td>\n",
       "    </tr>\n",
       "    <tr>\n",
       "      <th>Spain</th>\n",
       "      <td>10.589814</td>\n",
       "      <td>4.987544</td>\n",
       "      <td>12905.365574</td>\n",
       "    </tr>\n",
       "    <tr>\n",
       "      <th>Channel Islands</th>\n",
       "      <td>12.505277</td>\n",
       "      <td>4.932124</td>\n",
       "      <td>14888.151715</td>\n",
       "    </tr>\n",
       "    <tr>\n",
       "      <th>Greece</th>\n",
       "      <td>10.657534</td>\n",
       "      <td>4.885548</td>\n",
       "      <td>13757.424658</td>\n",
       "    </tr>\n",
       "    <tr>\n",
       "      <th>Italy</th>\n",
       "      <td>9.961395</td>\n",
       "      <td>4.831121</td>\n",
       "      <td>12648.397260</td>\n",
       "    </tr>\n",
       "    <tr>\n",
       "      <th>European Community</th>\n",
       "      <td>8.147541</td>\n",
       "      <td>4.820492</td>\n",
       "      <td>15108.000000</td>\n",
       "    </tr>\n",
       "    <tr>\n",
       "      <th>Bahrain</th>\n",
       "      <td>13.684211</td>\n",
       "      <td>4.556316</td>\n",
       "      <td>12932.052632</td>\n",
       "    </tr>\n",
       "    <tr>\n",
       "      <th>United Kingdom</th>\n",
       "      <td>8.605486</td>\n",
       "      <td>4.532422</td>\n",
       "      <td>16166.187389</td>\n",
       "    </tr>\n",
       "    <tr>\n",
       "      <th>Brazil</th>\n",
       "      <td>11.125000</td>\n",
       "      <td>4.456250</td>\n",
       "      <td>12769.000000</td>\n",
       "    </tr>\n",
       "    <tr>\n",
       "      <th>RSA</th>\n",
       "      <td>6.068966</td>\n",
       "      <td>4.277586</td>\n",
       "      <td>12446.000000</td>\n",
       "    </tr>\n",
       "    <tr>\n",
       "      <th>Austria</th>\n",
       "      <td>12.037406</td>\n",
       "      <td>4.243192</td>\n",
       "      <td>12521.451372</td>\n",
       "    </tr>\n",
       "    <tr>\n",
       "      <th>Poland</th>\n",
       "      <td>10.712610</td>\n",
       "      <td>4.170880</td>\n",
       "      <td>12733.055718</td>\n",
       "    </tr>\n",
       "    <tr>\n",
       "      <th>Germany</th>\n",
       "      <td>12.369458</td>\n",
       "      <td>3.966930</td>\n",
       "      <td>12646.139336</td>\n",
       "    </tr>\n",
       "    <tr>\n",
       "      <th>Sweden</th>\n",
       "      <td>77.136364</td>\n",
       "      <td>3.910887</td>\n",
       "      <td>14697.149351</td>\n",
       "    </tr>\n",
       "    <tr>\n",
       "      <th>Belgium</th>\n",
       "      <td>11.189947</td>\n",
       "      <td>3.644335</td>\n",
       "      <td>12430.298695</td>\n",
       "    </tr>\n",
       "    <tr>\n",
       "      <th>Israel</th>\n",
       "      <td>14.656566</td>\n",
       "      <td>3.633131</td>\n",
       "      <td>13478.094276</td>\n",
       "    </tr>\n",
       "    <tr>\n",
       "      <th>Switzerland</th>\n",
       "      <td>15.147353</td>\n",
       "      <td>3.403442</td>\n",
       "      <td>12990.030470</td>\n",
       "    </tr>\n",
       "    <tr>\n",
       "      <th>United Arab Emirates</th>\n",
       "      <td>14.441176</td>\n",
       "      <td>3.380735</td>\n",
       "      <td>14984.588235</td>\n",
       "    </tr>\n",
       "    <tr>\n",
       "      <th>Denmark</th>\n",
       "      <td>21.048843</td>\n",
       "      <td>3.256941</td>\n",
       "      <td>12536.591260</td>\n",
       "    </tr>\n",
       "    <tr>\n",
       "      <th>Australia</th>\n",
       "      <td>66.444003</td>\n",
       "      <td>3.220612</td>\n",
       "      <td>12464.656076</td>\n",
       "    </tr>\n",
       "    <tr>\n",
       "      <th>Czech Republic</th>\n",
       "      <td>19.733333</td>\n",
       "      <td>2.938333</td>\n",
       "      <td>12781.000000</td>\n",
       "    </tr>\n",
       "    <tr>\n",
       "      <th>Lithuania</th>\n",
       "      <td>18.628571</td>\n",
       "      <td>2.841143</td>\n",
       "      <td>15332.000000</td>\n",
       "    </tr>\n",
       "    <tr>\n",
       "      <th>Netherlands</th>\n",
       "      <td>84.406580</td>\n",
       "      <td>2.738317</td>\n",
       "      <td>14420.302826</td>\n",
       "    </tr>\n",
       "    <tr>\n",
       "      <th>Unspecified</th>\n",
       "      <td>7.399103</td>\n",
       "      <td>2.699574</td>\n",
       "      <td>15587.282511</td>\n",
       "    </tr>\n",
       "    <tr>\n",
       "      <th>Iceland</th>\n",
       "      <td>13.505495</td>\n",
       "      <td>2.644011</td>\n",
       "      <td>12347.000000</td>\n",
       "    </tr>\n",
       "    <tr>\n",
       "      <th>Saudi Arabia</th>\n",
       "      <td>7.500000</td>\n",
       "      <td>2.411000</td>\n",
       "      <td>12565.000000</td>\n",
       "    </tr>\n",
       "    <tr>\n",
       "      <th>Japan</th>\n",
       "      <td>70.441341</td>\n",
       "      <td>2.276145</td>\n",
       "      <td>12757.798883</td>\n",
       "    </tr>\n",
       "    <tr>\n",
       "      <th>USA</th>\n",
       "      <td>3.553265</td>\n",
       "      <td>2.216426</td>\n",
       "      <td>12618.852234</td>\n",
       "    </tr>\n",
       "  </tbody>\n",
       "</table>\n",
       "</div>"
      ],
      "text/plain": [
       "                       Quantity   UnitPrice    CustomerID\n",
       "Country                                                  \n",
       "Singapore             22.855895  109.645808  12744.000000\n",
       "Hong Kong             16.559028   42.505208  17841.000000\n",
       "Portugal              10.651745    8.582976  12877.287031\n",
       "Cyprus                10.155949    6.302363  12404.951768\n",
       "Canada                18.298013    6.030331  17321.079470\n",
       "Norway                17.722836    6.012026  12437.984346\n",
       "EIRE                  17.403245    5.911077  15016.678380\n",
       "Finland               15.346763    5.448705  12517.012950\n",
       "Lebanon                8.577778    5.387556  12764.000000\n",
       "Malta                  7.433071    5.244173  16996.031496\n",
       "France                12.911067    5.028864  12717.818161\n",
       "Spain                 10.589814    4.987544  12905.365574\n",
       "Channel Islands       12.505277    4.932124  14888.151715\n",
       "Greece                10.657534    4.885548  13757.424658\n",
       "Italy                  9.961395    4.831121  12648.397260\n",
       "European Community     8.147541    4.820492  15108.000000\n",
       "Bahrain               13.684211    4.556316  12932.052632\n",
       "United Kingdom         8.605486    4.532422  16166.187389\n",
       "Brazil                11.125000    4.456250  12769.000000\n",
       "RSA                    6.068966    4.277586  12446.000000\n",
       "Austria               12.037406    4.243192  12521.451372\n",
       "Poland                10.712610    4.170880  12733.055718\n",
       "Germany               12.369458    3.966930  12646.139336\n",
       "Sweden                77.136364    3.910887  14697.149351\n",
       "Belgium               11.189947    3.644335  12430.298695\n",
       "Israel                14.656566    3.633131  13478.094276\n",
       "Switzerland           15.147353    3.403442  12990.030470\n",
       "United Arab Emirates  14.441176    3.380735  14984.588235\n",
       "Denmark               21.048843    3.256941  12536.591260\n",
       "Australia             66.444003    3.220612  12464.656076\n",
       "Czech Republic        19.733333    2.938333  12781.000000\n",
       "Lithuania             18.628571    2.841143  15332.000000\n",
       "Netherlands           84.406580    2.738317  14420.302826\n",
       "Unspecified            7.399103    2.699574  15587.282511\n",
       "Iceland               13.505495    2.644011  12347.000000\n",
       "Saudi Arabia           7.500000    2.411000  12565.000000\n",
       "Japan                 70.441341    2.276145  12757.798883\n",
       "USA                    3.553265    2.216426  12618.852234"
      ]
     },
     "execution_count": 17,
     "metadata": {},
     "output_type": "execute_result"
    }
   ],
   "source": [
    "df.groupby('Country').mean().sort_values('UnitPrice',ascending=False)"
   ]
  },
  {
   "cell_type": "markdown",
   "metadata": {},
   "source": [
    "**We see in above table that customers who are from Singapore have highest average unit price of product about 109.645808,<br>\n",
    "Customers who are from Hong Kong have Second highest average unit price of product about 42.505208,<br>\n",
    "Customers who are from Portugal have Third highest average unit price of product about 8.582976,<br>\n",
    "Customers who are from Cyprus have Fourth highest average unit price of product about 6.302363,<br>\n",
    "Customers who are from Canada have Fifth highest average unit price of product about 6.030331**"
   ]
  },
  {
   "cell_type": "markdown",
   "metadata": {},
   "source": [
    "**We see in above table that Customers who are from USA have  Lowest average unit price of product about 2.216426,<br>\n",
    "Customer who are from Japan have Second Lowest average unit price of product about 2.276145,<br>\n",
    "Customer who are from Saudi Arabia have Third Lowest average unit price of product about 2.411000,<br>\n",
    "Customer who are from Iceland have Fourth Lowest average unit price of product about 2.644011,<br>\n",
    "Customer who are belong to Unspecified category have Fifth Lowest average unit price of product about 2.699574**"
   ]
  },
  {
   "cell_type": "code",
   "execution_count": 18,
   "metadata": {},
   "outputs": [
    {
     "data": {
      "text/html": [
       "<div>\n",
       "<style scoped>\n",
       "    .dataframe tbody tr th:only-of-type {\n",
       "        vertical-align: middle;\n",
       "    }\n",
       "\n",
       "    .dataframe tbody tr th {\n",
       "        vertical-align: top;\n",
       "    }\n",
       "\n",
       "    .dataframe thead th {\n",
       "        text-align: right;\n",
       "    }\n",
       "</style>\n",
       "<table border=\"1\" class=\"dataframe\">\n",
       "  <thead>\n",
       "    <tr style=\"text-align: right;\">\n",
       "      <th></th>\n",
       "      <th>InvoiceNo</th>\n",
       "      <th>StockCode</th>\n",
       "      <th>Quantity</th>\n",
       "      <th>InvoiceDate</th>\n",
       "      <th>UnitPrice</th>\n",
       "      <th>CustomerID</th>\n",
       "      <th>Country</th>\n",
       "    </tr>\n",
       "    <tr>\n",
       "      <th>Description</th>\n",
       "      <th></th>\n",
       "      <th></th>\n",
       "      <th></th>\n",
       "      <th></th>\n",
       "      <th></th>\n",
       "      <th></th>\n",
       "      <th></th>\n",
       "    </tr>\n",
       "  </thead>\n",
       "  <tbody>\n",
       "    <tr>\n",
       "      <th>WHITE HANGING HEART T-LIGHT HOLDER</th>\n",
       "      <td>3823</td>\n",
       "      <td>3823</td>\n",
       "      <td>3823</td>\n",
       "      <td>3823</td>\n",
       "      <td>3823</td>\n",
       "      <td>3823</td>\n",
       "      <td>3823</td>\n",
       "    </tr>\n",
       "    <tr>\n",
       "      <th>REGENCY CAKESTAND 3 TIER</th>\n",
       "      <td>2200</td>\n",
       "      <td>2200</td>\n",
       "      <td>2200</td>\n",
       "      <td>2200</td>\n",
       "      <td>2200</td>\n",
       "      <td>2200</td>\n",
       "      <td>2200</td>\n",
       "    </tr>\n",
       "    <tr>\n",
       "      <th>JUMBO BAG RED RETROSPOT</th>\n",
       "      <td>2159</td>\n",
       "      <td>2159</td>\n",
       "      <td>2159</td>\n",
       "      <td>2159</td>\n",
       "      <td>2159</td>\n",
       "      <td>2159</td>\n",
       "      <td>2159</td>\n",
       "    </tr>\n",
       "    <tr>\n",
       "      <th>PARTY BUNTING</th>\n",
       "      <td>1727</td>\n",
       "      <td>1727</td>\n",
       "      <td>1727</td>\n",
       "      <td>1727</td>\n",
       "      <td>1727</td>\n",
       "      <td>1727</td>\n",
       "      <td>1727</td>\n",
       "    </tr>\n",
       "    <tr>\n",
       "      <th>LUNCH BAG RED RETROSPOT</th>\n",
       "      <td>1638</td>\n",
       "      <td>1638</td>\n",
       "      <td>1638</td>\n",
       "      <td>1638</td>\n",
       "      <td>1638</td>\n",
       "      <td>1638</td>\n",
       "      <td>1638</td>\n",
       "    </tr>\n",
       "    <tr>\n",
       "      <th>...</th>\n",
       "      <td>...</td>\n",
       "      <td>...</td>\n",
       "      <td>...</td>\n",
       "      <td>...</td>\n",
       "      <td>...</td>\n",
       "      <td>...</td>\n",
       "      <td>...</td>\n",
       "    </tr>\n",
       "    <tr>\n",
       "      <th>ORANGE FELT VASE + FLOWERS</th>\n",
       "      <td>1</td>\n",
       "      <td>1</td>\n",
       "      <td>1</td>\n",
       "      <td>1</td>\n",
       "      <td>1</td>\n",
       "      <td>1</td>\n",
       "      <td>1</td>\n",
       "    </tr>\n",
       "    <tr>\n",
       "      <th>OPULENT VELVET SET/3 CANDLES</th>\n",
       "      <td>1</td>\n",
       "      <td>1</td>\n",
       "      <td>1</td>\n",
       "      <td>1</td>\n",
       "      <td>1</td>\n",
       "      <td>1</td>\n",
       "      <td>1</td>\n",
       "    </tr>\n",
       "    <tr>\n",
       "      <th>OOPS ! adjustment</th>\n",
       "      <td>1</td>\n",
       "      <td>1</td>\n",
       "      <td>1</td>\n",
       "      <td>1</td>\n",
       "      <td>1</td>\n",
       "      <td>1</td>\n",
       "      <td>1</td>\n",
       "    </tr>\n",
       "    <tr>\n",
       "      <th>OOH LA LA DOGS COLLAR</th>\n",
       "      <td>1</td>\n",
       "      <td>1</td>\n",
       "      <td>1</td>\n",
       "      <td>1</td>\n",
       "      <td>1</td>\n",
       "      <td>1</td>\n",
       "      <td>1</td>\n",
       "    </tr>\n",
       "    <tr>\n",
       "      <th>wrongly sold sets</th>\n",
       "      <td>1</td>\n",
       "      <td>1</td>\n",
       "      <td>1</td>\n",
       "      <td>1</td>\n",
       "      <td>1</td>\n",
       "      <td>1</td>\n",
       "      <td>1</td>\n",
       "    </tr>\n",
       "  </tbody>\n",
       "</table>\n",
       "<p>4223 rows × 7 columns</p>\n",
       "</div>"
      ],
      "text/plain": [
       "                                    InvoiceNo  StockCode  Quantity  \\\n",
       "Description                                                          \n",
       "WHITE HANGING HEART T-LIGHT HOLDER       3823       3823      3823   \n",
       "REGENCY CAKESTAND 3 TIER                 2200       2200      2200   \n",
       "JUMBO BAG RED RETROSPOT                  2159       2159      2159   \n",
       "PARTY BUNTING                            1727       1727      1727   \n",
       "LUNCH BAG RED RETROSPOT                  1638       1638      1638   \n",
       "...                                       ...        ...       ...   \n",
       "ORANGE FELT VASE + FLOWERS                  1          1         1   \n",
       "OPULENT VELVET SET/3 CANDLES                1          1         1   \n",
       "OOPS ! adjustment                           1          1         1   \n",
       "OOH LA LA DOGS COLLAR                       1          1         1   \n",
       "wrongly sold sets                           1          1         1   \n",
       "\n",
       "                                    InvoiceDate  UnitPrice  CustomerID  \\\n",
       "Description                                                              \n",
       "WHITE HANGING HEART T-LIGHT HOLDER         3823       3823        3823   \n",
       "REGENCY CAKESTAND 3 TIER                   2200       2200        2200   \n",
       "JUMBO BAG RED RETROSPOT                    2159       2159        2159   \n",
       "PARTY BUNTING                              1727       1727        1727   \n",
       "LUNCH BAG RED RETROSPOT                    1638       1638        1638   \n",
       "...                                         ...        ...         ...   \n",
       "ORANGE FELT VASE + FLOWERS                    1          1           1   \n",
       "OPULENT VELVET SET/3 CANDLES                  1          1           1   \n",
       "OOPS ! adjustment                             1          1           1   \n",
       "OOH LA LA DOGS COLLAR                         1          1           1   \n",
       "wrongly sold sets                             1          1           1   \n",
       "\n",
       "                                    Country  \n",
       "Description                                  \n",
       "WHITE HANGING HEART T-LIGHT HOLDER     3823  \n",
       "REGENCY CAKESTAND 3 TIER               2200  \n",
       "JUMBO BAG RED RETROSPOT                2159  \n",
       "PARTY BUNTING                          1727  \n",
       "LUNCH BAG RED RETROSPOT                1638  \n",
       "...                                     ...  \n",
       "ORANGE FELT VASE + FLOWERS                1  \n",
       "OPULENT VELVET SET/3 CANDLES              1  \n",
       "OOPS ! adjustment                         1  \n",
       "OOH LA LA DOGS COLLAR                     1  \n",
       "wrongly sold sets                         1  \n",
       "\n",
       "[4223 rows x 7 columns]"
      ]
     },
     "execution_count": 18,
     "metadata": {},
     "output_type": "execute_result"
    }
   ],
   "source": [
    "df.groupby('Description').count().sort_values('Quantity',ascending=False)"
   ]
  },
  {
   "cell_type": "markdown",
   "metadata": {},
   "source": [
    "**We see in above table that highest demanding product is White Hanging Heart T-light Holder,<br>\n",
    "Second highest demanded product is Regency cake stand 3 Tier,<br>\n",
    "Third highest demanded product is Jumbo bag Red Retro spot,<br>\n",
    "Fourth highest demanded product is Party Bunting,<br>\n",
    "Fifth highest demanded product is Lunch Bag Red Retro Spot.**"
   ]
  },
  {
   "cell_type": "markdown",
   "metadata": {},
   "source": [
    "**We also observe that some of least demanded product which is rarely order and the 5 lowest ordered products are:<br>\n",
    "ORANGE FELT VASE + FLOWERS,<br>\n",
    "OPULENT VELVET SET/3 CANDLES,<br>\n",
    "OOPS ! adjustment,<br>\n",
    "OOH LA LA DOGS COLLAR,<br>\n",
    "wrongly sold sets.**"
   ]
  },
  {
   "cell_type": "code",
   "execution_count": 19,
   "metadata": {},
   "outputs": [
    {
     "data": {
      "text/html": [
       "<div>\n",
       "<style scoped>\n",
       "    .dataframe tbody tr th:only-of-type {\n",
       "        vertical-align: middle;\n",
       "    }\n",
       "\n",
       "    .dataframe tbody tr th {\n",
       "        vertical-align: top;\n",
       "    }\n",
       "\n",
       "    .dataframe thead th {\n",
       "        text-align: right;\n",
       "    }\n",
       "</style>\n",
       "<table border=\"1\" class=\"dataframe\">\n",
       "  <thead>\n",
       "    <tr style=\"text-align: right;\">\n",
       "      <th></th>\n",
       "      <th>Quantity</th>\n",
       "      <th>UnitPrice</th>\n",
       "      <th>CustomerID</th>\n",
       "    </tr>\n",
       "    <tr>\n",
       "      <th>Description</th>\n",
       "      <th></th>\n",
       "      <th></th>\n",
       "      <th></th>\n",
       "    </tr>\n",
       "  </thead>\n",
       "  <tbody>\n",
       "    <tr>\n",
       "      <th>came coded as 20713</th>\n",
       "      <td>3100.0</td>\n",
       "      <td>0.000</td>\n",
       "      <td>17841.0</td>\n",
       "    </tr>\n",
       "    <tr>\n",
       "      <th>TEA TIME TEA TOWELS</th>\n",
       "      <td>1300.0</td>\n",
       "      <td>2.325</td>\n",
       "      <td>15749.0</td>\n",
       "    </tr>\n",
       "    <tr>\n",
       "      <th>did  a credit  and did not tick ret</th>\n",
       "      <td>1300.0</td>\n",
       "      <td>0.000</td>\n",
       "      <td>17841.0</td>\n",
       "    </tr>\n",
       "    <tr>\n",
       "      <th>wrongly coded 23343</th>\n",
       "      <td>1000.0</td>\n",
       "      <td>0.000</td>\n",
       "      <td>17841.0</td>\n",
       "    </tr>\n",
       "    <tr>\n",
       "      <th>Marked as 23343</th>\n",
       "      <td>400.0</td>\n",
       "      <td>0.000</td>\n",
       "      <td>17841.0</td>\n",
       "    </tr>\n",
       "    <tr>\n",
       "      <th>...</th>\n",
       "      <td>...</td>\n",
       "      <td>...</td>\n",
       "      <td>...</td>\n",
       "    </tr>\n",
       "    <tr>\n",
       "      <th>mouldy, thrown away.</th>\n",
       "      <td>-2600.0</td>\n",
       "      <td>0.000</td>\n",
       "      <td>17841.0</td>\n",
       "    </tr>\n",
       "    <tr>\n",
       "      <th>wrongly marked. 23343 in box</th>\n",
       "      <td>-3100.0</td>\n",
       "      <td>0.000</td>\n",
       "      <td>17841.0</td>\n",
       "    </tr>\n",
       "    <tr>\n",
       "      <th>throw away</th>\n",
       "      <td>-5368.0</td>\n",
       "      <td>0.000</td>\n",
       "      <td>17841.0</td>\n",
       "    </tr>\n",
       "    <tr>\n",
       "      <th>Printing smudges/thrown away</th>\n",
       "      <td>-9058.0</td>\n",
       "      <td>0.000</td>\n",
       "      <td>17841.0</td>\n",
       "    </tr>\n",
       "    <tr>\n",
       "      <th>printing smudges/thrown away</th>\n",
       "      <td>-9600.0</td>\n",
       "      <td>0.000</td>\n",
       "      <td>17841.0</td>\n",
       "    </tr>\n",
       "  </tbody>\n",
       "</table>\n",
       "<p>4223 rows × 3 columns</p>\n",
       "</div>"
      ],
      "text/plain": [
       "                                     Quantity  UnitPrice  CustomerID\n",
       "Description                                                         \n",
       "came coded as 20713                    3100.0      0.000     17841.0\n",
       "TEA TIME TEA TOWELS                    1300.0      2.325     15749.0\n",
       "did  a credit  and did not tick ret    1300.0      0.000     17841.0\n",
       "wrongly coded 23343                    1000.0      0.000     17841.0\n",
       "Marked as 23343                         400.0      0.000     17841.0\n",
       "...                                       ...        ...         ...\n",
       "mouldy, thrown away.                  -2600.0      0.000     17841.0\n",
       "wrongly marked. 23343 in box          -3100.0      0.000     17841.0\n",
       "throw away                            -5368.0      0.000     17841.0\n",
       "Printing smudges/thrown away          -9058.0      0.000     17841.0\n",
       "printing smudges/thrown away          -9600.0      0.000     17841.0\n",
       "\n",
       "[4223 rows x 3 columns]"
      ]
     },
     "execution_count": 19,
     "metadata": {},
     "output_type": "execute_result"
    }
   ],
   "source": [
    "df.groupby('Description').mean().sort_values('Quantity',ascending=False)"
   ]
  },
  {
   "cell_type": "markdown",
   "metadata": {},
   "source": [
    "**We see above table and observe that based on average quantity highest ordered product is \"came coded as 20713\" about 3100 quantity,<br>\n",
    "Based on average quantity Second highest ordered product is \"TEA TIME TEA TOWELS\" about 1300 quantity,<br>\n",
    "Based on average quantity Third highest ordered product is \"did a credit and did not tick ret\" about 1300 quantity,<br>\n",
    "Based on average quantity Fourth highest ordered product is \"wrongly coded 23343\" about 1000 quantity,<br> \n",
    "Based on average quantity Fifth highest ordered product is \"Marked as 23343\" about 400 quantity.**"
   ]
  },
  {
   "cell_type": "markdown",
   "metadata": {},
   "source": [
    "**We see in above table that there are also some least ordered product based on average quantity and those products are:<br>\n",
    "mouldy, thrown away,<br>\n",
    "wrongly marked. 23343 in box,<br>\n",
    "throw away,<br>\n",
    "Printing smudges/thrown away,<br>\n",
    "printing smudges/thrown away,<br>**"
   ]
  },
  {
   "cell_type": "code",
   "execution_count": 20,
   "metadata": {},
   "outputs": [
    {
     "data": {
      "text/html": [
       "<div>\n",
       "<style scoped>\n",
       "    .dataframe tbody tr th:only-of-type {\n",
       "        vertical-align: middle;\n",
       "    }\n",
       "\n",
       "    .dataframe tbody tr th {\n",
       "        vertical-align: top;\n",
       "    }\n",
       "\n",
       "    .dataframe thead th {\n",
       "        text-align: right;\n",
       "    }\n",
       "</style>\n",
       "<table border=\"1\" class=\"dataframe\">\n",
       "  <thead>\n",
       "    <tr style=\"text-align: right;\">\n",
       "      <th></th>\n",
       "      <th>Quantity</th>\n",
       "      <th>UnitPrice</th>\n",
       "      <th>CustomerID</th>\n",
       "    </tr>\n",
       "    <tr>\n",
       "      <th>Description</th>\n",
       "      <th></th>\n",
       "      <th></th>\n",
       "      <th></th>\n",
       "    </tr>\n",
       "  </thead>\n",
       "  <tbody>\n",
       "    <tr>\n",
       "      <th>AMAZON FEE</th>\n",
       "      <td>-0.882353</td>\n",
       "      <td>7324.784706</td>\n",
       "      <td>17841.000000</td>\n",
       "    </tr>\n",
       "    <tr>\n",
       "      <th>PICNIC BASKET WICKER 60 PIECES</th>\n",
       "      <td>30.500000</td>\n",
       "      <td>649.500000</td>\n",
       "      <td>15098.000000</td>\n",
       "    </tr>\n",
       "    <tr>\n",
       "      <th>CRUK Commission</th>\n",
       "      <td>-1.000000</td>\n",
       "      <td>495.839375</td>\n",
       "      <td>14096.000000</td>\n",
       "    </tr>\n",
       "    <tr>\n",
       "      <th>Manual</th>\n",
       "      <td>5.533217</td>\n",
       "      <td>374.914266</td>\n",
       "      <td>15755.155594</td>\n",
       "    </tr>\n",
       "    <tr>\n",
       "      <th>DOTCOM POSTAGE</th>\n",
       "      <td>0.997179</td>\n",
       "      <td>290.905585</td>\n",
       "      <td>17756.486601</td>\n",
       "    </tr>\n",
       "    <tr>\n",
       "      <th>...</th>\n",
       "      <td>...</td>\n",
       "      <td>...</td>\n",
       "      <td>...</td>\n",
       "    </tr>\n",
       "    <tr>\n",
       "      <th>add stock to allocate online orders</th>\n",
       "      <td>2.000000</td>\n",
       "      <td>0.000000</td>\n",
       "      <td>17841.000000</td>\n",
       "    </tr>\n",
       "    <tr>\n",
       "      <th>adjust</th>\n",
       "      <td>-53.000000</td>\n",
       "      <td>0.000000</td>\n",
       "      <td>17841.000000</td>\n",
       "    </tr>\n",
       "    <tr>\n",
       "      <th>adjustment</th>\n",
       "      <td>20.500000</td>\n",
       "      <td>0.000000</td>\n",
       "      <td>17841.000000</td>\n",
       "    </tr>\n",
       "    <tr>\n",
       "      <th>wrongly sold sets</th>\n",
       "      <td>-975.000000</td>\n",
       "      <td>0.000000</td>\n",
       "      <td>17841.000000</td>\n",
       "    </tr>\n",
       "    <tr>\n",
       "      <th>Adjust bad debt</th>\n",
       "      <td>1.000000</td>\n",
       "      <td>-3687.353333</td>\n",
       "      <td>17841.000000</td>\n",
       "    </tr>\n",
       "  </tbody>\n",
       "</table>\n",
       "<p>4223 rows × 3 columns</p>\n",
       "</div>"
      ],
      "text/plain": [
       "                                       Quantity    UnitPrice    CustomerID\n",
       "Description                                                               \n",
       "AMAZON FEE                            -0.882353  7324.784706  17841.000000\n",
       "PICNIC BASKET WICKER 60 PIECES        30.500000   649.500000  15098.000000\n",
       "CRUK Commission                       -1.000000   495.839375  14096.000000\n",
       "Manual                                 5.533217   374.914266  15755.155594\n",
       "DOTCOM POSTAGE                         0.997179   290.905585  17756.486601\n",
       "...                                         ...          ...           ...\n",
       "add stock to allocate online orders    2.000000     0.000000  17841.000000\n",
       "adjust                               -53.000000     0.000000  17841.000000\n",
       "adjustment                            20.500000     0.000000  17841.000000\n",
       "wrongly sold sets                   -975.000000     0.000000  17841.000000\n",
       "Adjust bad debt                        1.000000 -3687.353333  17841.000000\n",
       "\n",
       "[4223 rows x 3 columns]"
      ]
     },
     "execution_count": 20,
     "metadata": {},
     "output_type": "execute_result"
    }
   ],
   "source": [
    "df.groupby('Description').mean().sort_values('UnitPrice',ascending=False)"
   ]
  },
  {
   "cell_type": "markdown",
   "metadata": {},
   "source": [
    "**We see in above table that \"Amazon fee\" has highest average unit price about 7324.7847,<br>\n",
    "\"PICNIC BASKET WICKER 60 PIECES\" has Second highest average unit price about 649.500000,<br>\n",
    "\"CRUK Commission\" has Third highest average unit price about 495.839375,<br>\n",
    "\"Manual\" has Fourth highest average unit price about 374.914266,<br>\n",
    "\"DOTCOM POSTAGE\" has Fifth highest average unit price about 290.905585**"
   ]
  },
  {
   "cell_type": "markdown",
   "metadata": {},
   "source": [
    "**We also see in above table that many products have 0 unit price or negative unit price which are given below:<br>\n",
    "\"add stock to allocate online orders\" has unit price about 0.0<br>\n",
    "\"adjust\" has unit price about 0.0,<br>\n",
    "\"adjustment\" has unit price about 0.0,<br>\n",
    "\"wrongly sold sets\" has unit price about 0.0,<br>\n",
    "\"Adjust bad debt\" has unit price about -3687.353333**"
   ]
  },
  {
   "cell_type": "code",
   "execution_count": 21,
   "metadata": {},
   "outputs": [
    {
     "data": {
      "text/plain": [
       "0"
      ]
     },
     "execution_count": 21,
     "metadata": {},
     "output_type": "execute_result"
    }
   ],
   "source": [
    "df['InvoiceNo'].str.contains('c').sum()"
   ]
  },
  {
   "cell_type": "markdown",
   "metadata": {},
   "source": [
    "## Outliers Checking"
   ]
  },
  {
   "cell_type": "code",
   "execution_count": 22,
   "metadata": {},
   "outputs": [
    {
     "data": {
      "image/png": "[encoded data removed]",
      "text/plain": [
       "<Figure size 1080x576 with 1 Axes>"
      ]
     },
     "metadata": {
      "needs_background": "light"
     },
     "output_type": "display_data"
    }
   ],
   "source": [
    "plt.figure(figsize=(15,8))\n",
    "df.boxplot();"
   ]
  },
  {
   "cell_type": "markdown",
   "metadata": {},
   "source": [
    "**We see in above boxplot that quantity and unit price are facing the outlier problem. so, we have to treat that outlier problem before going for further analysis.**"
   ]
  },
  {
   "cell_type": "markdown",
   "metadata": {},
   "source": [
    "## Outlier treatment"
   ]
  },
  {
   "cell_type": "code",
   "execution_count": 23,
   "metadata": {},
   "outputs": [],
   "source": [
    "def remove_outlier(col):\n",
    "    sorted(col)\n",
    "    Q1,Q3=np.percentile(col,[25,75])\n",
    "    IQR=Q3-Q1\n",
    "    lower_range= Q1-(1.5 * IQR)\n",
    "    upper_range= Q3+(1.5 * IQR)\n",
    "    return lower_range, upper_range"
   ]
  },
  {
   "cell_type": "code",
   "execution_count": 24,
   "metadata": {},
   "outputs": [],
   "source": [
    "lr,ur=remove_outlier(df[\"Quantity\"])\n",
    "df[\"Quantity\"]=np.where(df[\"Quantity\"]>ur,ur,df[\"Quantity\"])\n",
    "df[\"Quantity\"]=np.where(df[\"Quantity\"]<lr,lr,df[\"Quantity\"])\n",
    "\n",
    "lr,ur=remove_outlier(df[\"UnitPrice\"])\n",
    "df[\"UnitPrice\"]=np.where(df[\"UnitPrice\"]>ur,ur,df[\"UnitPrice\"])\n",
    "df[\"UnitPrice\"]=np.where(df[\"UnitPrice\"]<lr,lr,df[\"UnitPrice\"])\n"
   ]
  },
  {
   "cell_type": "markdown",
   "metadata": {},
   "source": [
    "**For treatment of those outliers we are using the IQR capping method in which we cap the outliers at upper(Q3+1.5IQR) and lower(Q1-1.5IQR) limit**"
   ]
  },
  {
   "cell_type": "markdown",
   "metadata": {},
   "source": [
    "## Outlier checking"
   ]
  },
  {
   "cell_type": "code",
   "execution_count": 25,
   "metadata": {},
   "outputs": [
    {
     "data": {
      "image/png": "[encoded data removed]",
      "text/plain": [
       "<Figure size 1080x576 with 1 Axes>"
      ]
     },
     "metadata": {
      "needs_background": "light"
     },
     "output_type": "display_data"
    }
   ],
   "source": [
    "plt.figure(figsize=(15,8))\n",
    "df.boxplot();"
   ]
  },
  {
   "cell_type": "markdown",
   "metadata": {},
   "source": [
    "**We see in above boxplot that there are no outliers present in dataset. so, now we go for further analysis**"
   ]
  },
  {
   "cell_type": "markdown",
   "metadata": {},
   "source": [
    "## Univariate Analysis"
   ]
  },
  {
   "cell_type": "code",
   "execution_count": 26,
   "metadata": {},
   "outputs": [
    {
     "data": {
      "image/png": "[encoded data removed]",
      "text/plain": [
       "<Figure size 2880x1440 with 1 Axes>"
      ]
     },
     "metadata": {
      "needs_background": "light"
     },
     "output_type": "display_data"
    }
   ],
   "source": [
    "plt.figure(figsize=(40,20))\n",
    "sns.countplot(df['Country']);"
   ]
  },
  {
   "cell_type": "markdown",
   "metadata": {},
   "source": [
    "**We see in above countplot that highest number of transaction done by those customers who are from United kingdom,<br>\n",
    "Second highest number of transaction done by those customers who are from France,<br>\n",
    "Third highest number of transaction done by those customers who are from Australia,<br>\n",
    "Fourth highest number of transaction done by those customers who are from Netherlands,<br>\n",
    "Fifth highest number of transaction done by those customers who are from Germany.**"
   ]
  },
  {
   "cell_type": "markdown",
   "metadata": {},
   "source": [
    "**We see in above countplot that Lowest number of transaction done by those customers who are from RSA,<br>\n",
    "Second Lowest number of transaction done by those customers who are from Malta,<br>\n",
    "Third Lowest number of transaction done by those customers who are from Community,<br>\n",
    "Fourth Lowest number of transaction done by those customers who are from European,<br>\n",
    "Fifth Lowest number of transaction done by those customers who are from USA.**"
   ]
  },
  {
   "cell_type": "code",
   "execution_count": 27,
   "metadata": {},
   "outputs": [
    {
     "data": {
      "image/png": "[encoded data removed]",
      "text/plain": [
       "<Figure size 1080x576 with 1 Axes>"
      ]
     },
     "metadata": {
      "needs_background": "light"
     },
     "output_type": "display_data"
    }
   ],
   "source": [
    "plt.figure(figsize=(15,8))\n",
    "sns.distplot(df['UnitPrice']);"
   ]
  },
  {
   "cell_type": "markdown",
   "metadata": {},
   "source": [
    "**We see in above histogram and we observe that most of unit Price is distributed between  0 to 4 and we said that because most of peaks are seen between 0 and 4 but we also observe some higher peaks after 8 means we can say that some products also have higher unit price which is above 8.<br>\n",
    "We also observe that Unit price is not normally distributed it is skewed one.**"
   ]
  },
  {
   "cell_type": "code",
   "execution_count": 28,
   "metadata": {},
   "outputs": [
    {
     "data": {
      "image/png": "[encoded data removed]",
      "text/plain": [
       "<Figure size 1080x576 with 1 Axes>"
      ]
     },
     "metadata": {
      "needs_background": "light"
     },
     "output_type": "display_data"
    }
   ],
   "source": [
    "plt.figure(figsize=(15,8))\n",
    "sns.boxplot(df['UnitPrice']);"
   ]
  },
  {
   "cell_type": "markdown",
   "metadata": {},
   "source": [
    "**We see in above boxplot that unit price is distributed between 0 to 4 and we also observe that it is skewed one(Positive skew)**"
   ]
  },
  {
   "cell_type": "code",
   "execution_count": 29,
   "metadata": {},
   "outputs": [
    {
     "data": {
      "image/png": "[encoded data removed]",
      "text/plain": [
       "<Figure size 1080x576 with 1 Axes>"
      ]
     },
     "metadata": {
      "needs_background": "light"
     },
     "output_type": "display_data"
    }
   ],
   "source": [
    "plt.figure(figsize=(15,8))\n",
    "sns.distplot(df['Quantity']);"
   ]
  },
  {
   "cell_type": "markdown",
   "metadata": {},
   "source": [
    "**We see in above histogram of Quantity and we observe that most of quantity is between 0 to 5 and we can say that because most of peaks are seen between 0 and 5. we also seen some peaks between 10 and 15 & 20 and 25 that means there are some customers who ordered very high quantity of products.**"
   ]
  },
  {
   "cell_type": "code",
   "execution_count": 30,
   "metadata": {},
   "outputs": [
    {
     "data": {
      "image/png": "[encoded data removed]",
      "text/plain": [
       "<Figure size 1080x576 with 1 Axes>"
      ]
     },
     "metadata": {
      "needs_background": "light"
     },
     "output_type": "display_data"
    }
   ],
   "source": [
    "plt.figure(figsize=(15,8))\n",
    "sns.boxplot(df['Quantity']);"
   ]
  },
  {
   "cell_type": "markdown",
   "metadata": {},
   "source": [
    "**We see in above boxplot of quantity and we observe that distribution of boxplot is between 0 to 10. we also observe that this boxplot is also skewed one and it is positively skewed.**"
   ]
  },
  {
   "cell_type": "markdown",
   "metadata": {},
   "source": [
    "## Bivariate and Multivariate Analysis"
   ]
  },
  {
   "cell_type": "code",
   "execution_count": 31,
   "metadata": {},
   "outputs": [
    {
     "data": {
      "image/png": "[encoded data removed]",
      "text/plain": [
       "<Figure size 1080x576 with 1 Axes>"
      ]
     },
     "metadata": {
      "needs_background": "light"
     },
     "output_type": "display_data"
    }
   ],
   "source": [
    "plt.figure(figsize=(15,8))\n",
    "sns.scatterplot(df.UnitPrice,df.Quantity);"
   ]
  },
  {
   "cell_type": "markdown",
   "metadata": {},
   "source": [
    "**We see scatterplot of unit price and Quantity above and we observe that there are no linear relationship between unit price and quantity. it is look like cloud relationship.**"
   ]
  },
  {
   "cell_type": "code",
   "execution_count": 32,
   "metadata": {},
   "outputs": [
    {
     "data": {
      "image/png": "[encoded data removed]",
      "text/plain": [
       "<Figure size 540x540 with 12 Axes>"
      ]
     },
     "metadata": {
      "needs_background": "light"
     },
     "output_type": "display_data"
    }
   ],
   "source": [
    "sns.pairplot(df);"
   ]
  },
  {
   "cell_type": "markdown",
   "metadata": {},
   "source": [
    "**We see in above pair plot and we observe that there are no linear relationship between target variable unit price and other independent variable means for this dataset linear regression model cant perfrom well.**"
   ]
  },
  {
   "cell_type": "code",
   "execution_count": 33,
   "metadata": {},
   "outputs": [
    {
     "data": {
      "image/png": "[encoded data removed]",
      "text/plain": [
       "<Figure size 432x288 with 2 Axes>"
      ]
     },
     "metadata": {
      "needs_background": "light"
     },
     "output_type": "display_data"
    }
   ],
   "source": [
    "sns.heatmap(df.corr(),annot=True);"
   ]
  },
  {
   "cell_type": "markdown",
   "metadata": {},
   "source": [
    "**We see heatmap of numerical variables and we observe that there are negative correlation between Unit price and Quantity about -0.36 and correlation between Customer id and Quantity is -0.27.** "
   ]
  },
  {
   "cell_type": "markdown",
   "metadata": {},
   "source": [
    "## Converting dataset into Time series fromat for analysing Trend"
   ]
  },
  {
   "cell_type": "code",
   "execution_count": 34,
   "metadata": {},
   "outputs": [
    {
     "data": {
      "text/html": [
       "<div>\n",
       "<style scoped>\n",
       "    .dataframe tbody tr th:only-of-type {\n",
       "        vertical-align: middle;\n",
       "    }\n",
       "\n",
       "    .dataframe tbody tr th {\n",
       "        vertical-align: top;\n",
       "    }\n",
       "\n",
       "    .dataframe thead th {\n",
       "        text-align: right;\n",
       "    }\n",
       "</style>\n",
       "<table border=\"1\" class=\"dataframe\">\n",
       "  <thead>\n",
       "    <tr style=\"text-align: right;\">\n",
       "      <th></th>\n",
       "      <th>InvoiceNo</th>\n",
       "      <th>StockCode</th>\n",
       "      <th>Description</th>\n",
       "      <th>Quantity</th>\n",
       "      <th>UnitPrice</th>\n",
       "      <th>CustomerID</th>\n",
       "      <th>Country</th>\n",
       "    </tr>\n",
       "    <tr>\n",
       "      <th>InvoiceDate</th>\n",
       "      <th></th>\n",
       "      <th></th>\n",
       "      <th></th>\n",
       "      <th></th>\n",
       "      <th></th>\n",
       "      <th></th>\n",
       "      <th></th>\n",
       "    </tr>\n",
       "  </thead>\n",
       "  <tbody>\n",
       "    <tr>\n",
       "      <th>2010-12-01 08:26:00</th>\n",
       "      <td>536365</td>\n",
       "      <td>85123A</td>\n",
       "      <td>WHITE HANGING HEART T-LIGHT HOLDER</td>\n",
       "      <td>6</td>\n",
       "      <td>2.55</td>\n",
       "      <td>17850.0</td>\n",
       "      <td>United Kingdom</td>\n",
       "    </tr>\n",
       "    <tr>\n",
       "      <th>2010-12-01 08:26:00</th>\n",
       "      <td>536365</td>\n",
       "      <td>71053</td>\n",
       "      <td>WHITE METAL LANTERN</td>\n",
       "      <td>6</td>\n",
       "      <td>3.39</td>\n",
       "      <td>17850.0</td>\n",
       "      <td>United Kingdom</td>\n",
       "    </tr>\n",
       "    <tr>\n",
       "      <th>2010-12-01 08:26:00</th>\n",
       "      <td>536365</td>\n",
       "      <td>84406B</td>\n",
       "      <td>CREAM CUPID HEARTS COAT HANGER</td>\n",
       "      <td>8</td>\n",
       "      <td>2.75</td>\n",
       "      <td>17850.0</td>\n",
       "      <td>United Kingdom</td>\n",
       "    </tr>\n",
       "    <tr>\n",
       "      <th>2010-12-01 08:26:00</th>\n",
       "      <td>536365</td>\n",
       "      <td>84029G</td>\n",
       "      <td>KNITTED UNION FLAG HOT WATER BOTTLE</td>\n",
       "      <td>6</td>\n",
       "      <td>3.39</td>\n",
       "      <td>17850.0</td>\n",
       "      <td>United Kingdom</td>\n",
       "    </tr>\n",
       "    <tr>\n",
       "      <th>2010-12-01 08:26:00</th>\n",
       "      <td>536365</td>\n",
       "      <td>84029E</td>\n",
       "      <td>RED WOOLLY HOTTIE WHITE HEART.</td>\n",
       "      <td>6</td>\n",
       "      <td>3.39</td>\n",
       "      <td>17850.0</td>\n",
       "      <td>United Kingdom</td>\n",
       "    </tr>\n",
       "  </tbody>\n",
       "</table>\n",
       "</div>"
      ],
      "text/plain": [
       "                    InvoiceNo StockCode                          Description  \\\n",
       "InvoiceDate                                                                    \n",
       "2010-12-01 08:26:00    536365    85123A   WHITE HANGING HEART T-LIGHT HOLDER   \n",
       "2010-12-01 08:26:00    536365     71053                  WHITE METAL LANTERN   \n",
       "2010-12-01 08:26:00    536365    84406B       CREAM CUPID HEARTS COAT HANGER   \n",
       "2010-12-01 08:26:00    536365    84029G  KNITTED UNION FLAG HOT WATER BOTTLE   \n",
       "2010-12-01 08:26:00    536365    84029E       RED WOOLLY HOTTIE WHITE HEART.   \n",
       "\n",
       "                     Quantity  UnitPrice  CustomerID         Country  \n",
       "InvoiceDate                                                           \n",
       "2010-12-01 08:26:00         6       2.55     17850.0  United Kingdom  \n",
       "2010-12-01 08:26:00         6       3.39     17850.0  United Kingdom  \n",
       "2010-12-01 08:26:00         8       2.75     17850.0  United Kingdom  \n",
       "2010-12-01 08:26:00         6       3.39     17850.0  United Kingdom  \n",
       "2010-12-01 08:26:00         6       3.39     17850.0  United Kingdom  "
      ]
     },
     "execution_count": 34,
     "metadata": {},
     "output_type": "execute_result"
    }
   ],
   "source": [
    "df1=pd.read_excel('Online Retail.xlsx',parse_dates=True,index_col='InvoiceDate')\n",
    "df1.head()"
   ]
  },
  {
   "cell_type": "code",
   "execution_count": 35,
   "metadata": {},
   "outputs": [
    {
     "data": {
      "text/html": [
       "<div>\n",
       "<style scoped>\n",
       "    .dataframe tbody tr th:only-of-type {\n",
       "        vertical-align: middle;\n",
       "    }\n",
       "\n",
       "    .dataframe tbody tr th {\n",
       "        vertical-align: top;\n",
       "    }\n",
       "\n",
       "    .dataframe thead th {\n",
       "        text-align: right;\n",
       "    }\n",
       "</style>\n",
       "<table border=\"1\" class=\"dataframe\">\n",
       "  <thead>\n",
       "    <tr style=\"text-align: right;\">\n",
       "      <th></th>\n",
       "      <th>UnitPrice</th>\n",
       "      <th>Quantity</th>\n",
       "    </tr>\n",
       "    <tr>\n",
       "      <th>InvoiceDate</th>\n",
       "      <th></th>\n",
       "      <th></th>\n",
       "    </tr>\n",
       "  </thead>\n",
       "  <tbody>\n",
       "    <tr>\n",
       "      <th>2010-12-01 08:26:00</th>\n",
       "      <td>2.55</td>\n",
       "      <td>6</td>\n",
       "    </tr>\n",
       "    <tr>\n",
       "      <th>2010-12-01 08:26:00</th>\n",
       "      <td>3.39</td>\n",
       "      <td>6</td>\n",
       "    </tr>\n",
       "    <tr>\n",
       "      <th>2010-12-01 08:26:00</th>\n",
       "      <td>2.75</td>\n",
       "      <td>8</td>\n",
       "    </tr>\n",
       "    <tr>\n",
       "      <th>2010-12-01 08:26:00</th>\n",
       "      <td>3.39</td>\n",
       "      <td>6</td>\n",
       "    </tr>\n",
       "    <tr>\n",
       "      <th>2010-12-01 08:26:00</th>\n",
       "      <td>3.39</td>\n",
       "      <td>6</td>\n",
       "    </tr>\n",
       "  </tbody>\n",
       "</table>\n",
       "</div>"
      ],
      "text/plain": [
       "                     UnitPrice  Quantity\n",
       "InvoiceDate                             \n",
       "2010-12-01 08:26:00       2.55         6\n",
       "2010-12-01 08:26:00       3.39         6\n",
       "2010-12-01 08:26:00       2.75         8\n",
       "2010-12-01 08:26:00       3.39         6\n",
       "2010-12-01 08:26:00       3.39         6"
      ]
     },
     "execution_count": 35,
     "metadata": {},
     "output_type": "execute_result"
    }
   ],
   "source": [
    "df1=df1[['UnitPrice','Quantity']]\n",
    "df1.head()"
   ]
  },
  {
   "cell_type": "code",
   "execution_count": 36,
   "metadata": {},
   "outputs": [
    {
     "data": {
      "image/png": "[encoded data removed]",
      "text/plain": [
       "<Figure size 1080x720 with 1 Axes>"
      ]
     },
     "metadata": {
      "needs_background": "light"
     },
     "output_type": "display_data"
    }
   ],
   "source": [
    "rcParams['figure.figsize']=15,10\n",
    "df1.plot();"
   ]
  },
  {
   "cell_type": "markdown",
   "metadata": {},
   "source": [
    "**We see in above graph and we observe that there are no increase or decrease in trend of unit price. its look like steady flow of unit price.**"
   ]
  },
  {
   "cell_type": "markdown",
   "metadata": {},
   "source": [
    "## Clustering\n",
    "**We know that for applying clustering we must have to convert all the data into numerical and after that we have to standardise that numerical data first and for standardise the data we apply standard scaler on data.**"
   ]
  },
  {
   "cell_type": "code",
   "execution_count": 37,
   "metadata": {},
   "outputs": [
    {
     "data": {
      "text/html": [
       "<div>\n",
       "<style scoped>\n",
       "    .dataframe tbody tr th:only-of-type {\n",
       "        vertical-align: middle;\n",
       "    }\n",
       "\n",
       "    .dataframe tbody tr th {\n",
       "        vertical-align: top;\n",
       "    }\n",
       "\n",
       "    .dataframe thead th {\n",
       "        text-align: right;\n",
       "    }\n",
       "</style>\n",
       "<table border=\"1\" class=\"dataframe\">\n",
       "  <thead>\n",
       "    <tr style=\"text-align: right;\">\n",
       "      <th></th>\n",
       "      <th>InvoiceNo</th>\n",
       "      <th>StockCode</th>\n",
       "      <th>Description</th>\n",
       "      <th>Quantity</th>\n",
       "      <th>InvoiceDate</th>\n",
       "      <th>UnitPrice</th>\n",
       "      <th>CustomerID</th>\n",
       "      <th>Country</th>\n",
       "    </tr>\n",
       "  </thead>\n",
       "  <tbody>\n",
       "    <tr>\n",
       "      <th>0</th>\n",
       "      <td>536365</td>\n",
       "      <td>85123A</td>\n",
       "      <td>WHITE HANGING HEART T-LIGHT HOLDER</td>\n",
       "      <td>6.0</td>\n",
       "      <td>2010-12-01 08:26:00</td>\n",
       "      <td>2.55</td>\n",
       "      <td>17850.0</td>\n",
       "      <td>United Kingdom</td>\n",
       "    </tr>\n",
       "    <tr>\n",
       "      <th>1</th>\n",
       "      <td>536365</td>\n",
       "      <td>71053</td>\n",
       "      <td>WHITE METAL LANTERN</td>\n",
       "      <td>6.0</td>\n",
       "      <td>2010-12-01 08:26:00</td>\n",
       "      <td>3.39</td>\n",
       "      <td>17850.0</td>\n",
       "      <td>United Kingdom</td>\n",
       "    </tr>\n",
       "    <tr>\n",
       "      <th>2</th>\n",
       "      <td>536365</td>\n",
       "      <td>84406B</td>\n",
       "      <td>CREAM CUPID HEARTS COAT HANGER</td>\n",
       "      <td>8.0</td>\n",
       "      <td>2010-12-01 08:26:00</td>\n",
       "      <td>2.75</td>\n",
       "      <td>17850.0</td>\n",
       "      <td>United Kingdom</td>\n",
       "    </tr>\n",
       "    <tr>\n",
       "      <th>3</th>\n",
       "      <td>536365</td>\n",
       "      <td>84029G</td>\n",
       "      <td>KNITTED UNION FLAG HOT WATER BOTTLE</td>\n",
       "      <td>6.0</td>\n",
       "      <td>2010-12-01 08:26:00</td>\n",
       "      <td>3.39</td>\n",
       "      <td>17850.0</td>\n",
       "      <td>United Kingdom</td>\n",
       "    </tr>\n",
       "    <tr>\n",
       "      <th>4</th>\n",
       "      <td>536365</td>\n",
       "      <td>84029E</td>\n",
       "      <td>RED WOOLLY HOTTIE WHITE HEART.</td>\n",
       "      <td>6.0</td>\n",
       "      <td>2010-12-01 08:26:00</td>\n",
       "      <td>3.39</td>\n",
       "      <td>17850.0</td>\n",
       "      <td>United Kingdom</td>\n",
       "    </tr>\n",
       "  </tbody>\n",
       "</table>\n",
       "</div>"
      ],
      "text/plain": [
       "  InvoiceNo StockCode                          Description  Quantity  \\\n",
       "0    536365    85123A   WHITE HANGING HEART T-LIGHT HOLDER       6.0   \n",
       "1    536365     71053                  WHITE METAL LANTERN       6.0   \n",
       "2    536365    84406B       CREAM CUPID HEARTS COAT HANGER       8.0   \n",
       "3    536365    84029G  KNITTED UNION FLAG HOT WATER BOTTLE       6.0   \n",
       "4    536365    84029E       RED WOOLLY HOTTIE WHITE HEART.       6.0   \n",
       "\n",
       "          InvoiceDate  UnitPrice  CustomerID         Country  \n",
       "0 2010-12-01 08:26:00       2.55     17850.0  United Kingdom  \n",
       "1 2010-12-01 08:26:00       3.39     17850.0  United Kingdom  \n",
       "2 2010-12-01 08:26:00       2.75     17850.0  United Kingdom  \n",
       "3 2010-12-01 08:26:00       3.39     17850.0  United Kingdom  \n",
       "4 2010-12-01 08:26:00       3.39     17850.0  United Kingdom  "
      ]
     },
     "execution_count": 37,
     "metadata": {},
     "output_type": "execute_result"
    }
   ],
   "source": [
    "df.head()"
   ]
  },
  {
   "cell_type": "code",
   "execution_count": 38,
   "metadata": {},
   "outputs": [],
   "source": [
    "from sklearn.preprocessing import StandardScaler"
   ]
  },
  {
   "cell_type": "code",
   "execution_count": 39,
   "metadata": {},
   "outputs": [],
   "source": [
    "X = StandardScaler()"
   ]
  },
  {
   "cell_type": "code",
   "execution_count": 40,
   "metadata": {},
   "outputs": [],
   "source": [
    "for feature in df.columns: \n",
    "    if df[feature].dtype == 'object': \n",
    "        df[feature] = pd.Categorical(df[feature]).codes"
   ]
  },
  {
   "cell_type": "code",
   "execution_count": 41,
   "metadata": {},
   "outputs": [
    {
     "data": {
      "text/html": [
       "<div>\n",
       "<style scoped>\n",
       "    .dataframe tbody tr th:only-of-type {\n",
       "        vertical-align: middle;\n",
       "    }\n",
       "\n",
       "    .dataframe tbody tr th {\n",
       "        vertical-align: top;\n",
       "    }\n",
       "\n",
       "    .dataframe thead th {\n",
       "        text-align: right;\n",
       "    }\n",
       "</style>\n",
       "<table border=\"1\" class=\"dataframe\">\n",
       "  <thead>\n",
       "    <tr style=\"text-align: right;\">\n",
       "      <th></th>\n",
       "      <th>Description</th>\n",
       "      <th>Quantity</th>\n",
       "      <th>UnitPrice</th>\n",
       "      <th>Country</th>\n",
       "    </tr>\n",
       "  </thead>\n",
       "  <tbody>\n",
       "    <tr>\n",
       "      <th>0</th>\n",
       "      <td>3918</td>\n",
       "      <td>6.0</td>\n",
       "      <td>2.55</td>\n",
       "      <td>36</td>\n",
       "    </tr>\n",
       "    <tr>\n",
       "      <th>1</th>\n",
       "      <td>3926</td>\n",
       "      <td>6.0</td>\n",
       "      <td>3.39</td>\n",
       "      <td>36</td>\n",
       "    </tr>\n",
       "    <tr>\n",
       "      <th>2</th>\n",
       "      <td>913</td>\n",
       "      <td>8.0</td>\n",
       "      <td>2.75</td>\n",
       "      <td>36</td>\n",
       "    </tr>\n",
       "    <tr>\n",
       "      <th>3</th>\n",
       "      <td>1910</td>\n",
       "      <td>6.0</td>\n",
       "      <td>3.39</td>\n",
       "      <td>36</td>\n",
       "    </tr>\n",
       "    <tr>\n",
       "      <th>4</th>\n",
       "      <td>2911</td>\n",
       "      <td>6.0</td>\n",
       "      <td>3.39</td>\n",
       "      <td>36</td>\n",
       "    </tr>\n",
       "  </tbody>\n",
       "</table>\n",
       "</div>"
      ],
      "text/plain": [
       "   Description  Quantity  UnitPrice  Country\n",
       "0         3918       6.0       2.55       36\n",
       "1         3926       6.0       3.39       36\n",
       "2          913       8.0       2.75       36\n",
       "3         1910       6.0       3.39       36\n",
       "4         2911       6.0       3.39       36"
      ]
     },
     "execution_count": 41,
     "metadata": {},
     "output_type": "execute_result"
    }
   ],
   "source": [
    "df_1=df.drop(['InvoiceNo','StockCode','InvoiceDate','CustomerID'],axis=1)\n",
    "df_1.head()"
   ]
  },
  {
   "cell_type": "code",
   "execution_count": 42,
   "metadata": {},
   "outputs": [],
   "source": [
    "scaled_df = X.fit_transform(df_1)"
   ]
  },
  {
   "cell_type": "code",
   "execution_count": 43,
   "metadata": {},
   "outputs": [
    {
     "data": {
      "text/plain": [
       "array([[ 1.55321339, -0.06713864, -0.16869146,  0.27965099],\n",
       "       [ 1.56018412, -0.06713864,  0.18040372,  0.27965099],\n",
       "       [-1.06516868,  0.20690581, -0.08557356,  0.27965099],\n",
       "       ...,\n",
       "       [-1.20806873, -0.34118308,  0.49625174, -3.41640162],\n",
       "       [-1.20894007, -0.34118308,  0.49625174, -3.41640162],\n",
       "       [-1.59581583, -0.47820531,  0.82872334, -3.41640162]])"
      ]
     },
     "execution_count": 43,
     "metadata": {},
     "output_type": "execute_result"
    }
   ],
   "source": [
    "scaled_df"
   ]
  },
  {
   "cell_type": "code",
   "execution_count": 44,
   "metadata": {},
   "outputs": [],
   "source": [
    "from sklearn.cluster import KMeans \n",
    "k_means = KMeans(n_clusters = 2)"
   ]
  },
  {
   "cell_type": "code",
   "execution_count": 45,
   "metadata": {},
   "outputs": [
    {
     "data": {
      "text/plain": [
       "KMeans(n_clusters=2)"
      ]
     },
     "execution_count": 45,
     "metadata": {},
     "output_type": "execute_result"
    }
   ],
   "source": [
    "k_means.fit(scaled_df)"
   ]
  },
  {
   "cell_type": "code",
   "execution_count": 46,
   "metadata": {},
   "outputs": [
    {
     "data": {
      "text/plain": [
       "1643690.3960567147"
      ]
     },
     "execution_count": 46,
     "metadata": {},
     "output_type": "execute_result"
    }
   ],
   "source": [
    "k_means.inertia_"
   ]
  },
  {
   "cell_type": "code",
   "execution_count": 47,
   "metadata": {},
   "outputs": [],
   "source": [
    "wss =[] "
   ]
  },
  {
   "cell_type": "code",
   "execution_count": 48,
   "metadata": {},
   "outputs": [],
   "source": [
    "for i in range(1,11):\n",
    "    KM = KMeans(n_clusters=i)\n",
    "    KM.fit(scaled_df)\n",
    "    wss.append(KM.inertia_)"
   ]
  },
  {
   "cell_type": "code",
   "execution_count": 49,
   "metadata": {},
   "outputs": [
    {
     "data": {
      "text/plain": [
       "[2167635.999999593,\n",
       " 1643690.396204512,\n",
       " 1211830.4635828629,\n",
       " 908679.7623614765,\n",
       " 672816.885844642,\n",
       " 597003.0791588963,\n",
       " 539195.1857905308,\n",
       " 486064.1652147939,\n",
       " 442644.2797236493,\n",
       " 404304.5505190537]"
      ]
     },
     "execution_count": 49,
     "metadata": {},
     "output_type": "execute_result"
    }
   ],
   "source": [
    "wss"
   ]
  },
  {
   "cell_type": "code",
   "execution_count": 50,
   "metadata": {},
   "outputs": [
    {
     "data": {
      "image/png": "[encoded data removed]",
      "text/plain": [
       "<Figure size 1080x720 with 1 Axes>"
      ]
     },
     "metadata": {
      "needs_background": "light"
     },
     "output_type": "display_data"
    }
   ],
   "source": [
    "plt.plot(range(1,11), wss);"
   ]
  },
  {
   "cell_type": "markdown",
   "metadata": {},
   "source": [
    "**We see in above graph that upto 5 line is significantly droped bt after 5 drop become gradual so, we can say that 5 is significant value for K.**"
   ]
  },
  {
   "cell_type": "code",
   "execution_count": 51,
   "metadata": {},
   "outputs": [],
   "source": [
    "k_means = KMeans(n_clusters = 5)\n",
    "k_means.fit(scaled_df)\n",
    "labels = k_means.labels_"
   ]
  },
  {
   "cell_type": "code",
   "execution_count": 52,
   "metadata": {},
   "outputs": [
    {
     "data": {
      "text/html": [
       "<div>\n",
       "<style scoped>\n",
       "    .dataframe tbody tr th:only-of-type {\n",
       "        vertical-align: middle;\n",
       "    }\n",
       "\n",
       "    .dataframe tbody tr th {\n",
       "        vertical-align: top;\n",
       "    }\n",
       "\n",
       "    .dataframe thead th {\n",
       "        text-align: right;\n",
       "    }\n",
       "</style>\n",
       "<table border=\"1\" class=\"dataframe\">\n",
       "  <thead>\n",
       "    <tr style=\"text-align: right;\">\n",
       "      <th></th>\n",
       "      <th>Description</th>\n",
       "      <th>Quantity</th>\n",
       "      <th>UnitPrice</th>\n",
       "      <th>Country</th>\n",
       "      <th>Clus_kmeans</th>\n",
       "    </tr>\n",
       "  </thead>\n",
       "  <tbody>\n",
       "    <tr>\n",
       "      <th>0</th>\n",
       "      <td>3918</td>\n",
       "      <td>6.0</td>\n",
       "      <td>2.55</td>\n",
       "      <td>36</td>\n",
       "      <td>0</td>\n",
       "    </tr>\n",
       "    <tr>\n",
       "      <th>1</th>\n",
       "      <td>3926</td>\n",
       "      <td>6.0</td>\n",
       "      <td>3.39</td>\n",
       "      <td>36</td>\n",
       "      <td>0</td>\n",
       "    </tr>\n",
       "    <tr>\n",
       "      <th>2</th>\n",
       "      <td>913</td>\n",
       "      <td>8.0</td>\n",
       "      <td>2.75</td>\n",
       "      <td>36</td>\n",
       "      <td>1</td>\n",
       "    </tr>\n",
       "    <tr>\n",
       "      <th>3</th>\n",
       "      <td>1910</td>\n",
       "      <td>6.0</td>\n",
       "      <td>3.39</td>\n",
       "      <td>36</td>\n",
       "      <td>1</td>\n",
       "    </tr>\n",
       "    <tr>\n",
       "      <th>4</th>\n",
       "      <td>2911</td>\n",
       "      <td>6.0</td>\n",
       "      <td>3.39</td>\n",
       "      <td>36</td>\n",
       "      <td>0</td>\n",
       "    </tr>\n",
       "    <tr>\n",
       "      <th>5</th>\n",
       "      <td>3158</td>\n",
       "      <td>2.0</td>\n",
       "      <td>7.65</td>\n",
       "      <td>36</td>\n",
       "      <td>4</td>\n",
       "    </tr>\n",
       "    <tr>\n",
       "      <th>6</th>\n",
       "      <td>1529</td>\n",
       "      <td>6.0</td>\n",
       "      <td>4.25</td>\n",
       "      <td>36</td>\n",
       "      <td>1</td>\n",
       "    </tr>\n",
       "    <tr>\n",
       "      <th>7</th>\n",
       "      <td>1653</td>\n",
       "      <td>6.0</td>\n",
       "      <td>1.85</td>\n",
       "      <td>36</td>\n",
       "      <td>1</td>\n",
       "    </tr>\n",
       "    <tr>\n",
       "      <th>8</th>\n",
       "      <td>1650</td>\n",
       "      <td>6.0</td>\n",
       "      <td>1.85</td>\n",
       "      <td>36</td>\n",
       "      <td>1</td>\n",
       "    </tr>\n",
       "    <tr>\n",
       "      <th>9</th>\n",
       "      <td>244</td>\n",
       "      <td>23.5</td>\n",
       "      <td>1.69</td>\n",
       "      <td>36</td>\n",
       "      <td>3</td>\n",
       "    </tr>\n",
       "  </tbody>\n",
       "</table>\n",
       "</div>"
      ],
      "text/plain": [
       "   Description  Quantity  UnitPrice  Country  Clus_kmeans\n",
       "0         3918       6.0       2.55       36            0\n",
       "1         3926       6.0       3.39       36            0\n",
       "2          913       8.0       2.75       36            1\n",
       "3         1910       6.0       3.39       36            1\n",
       "4         2911       6.0       3.39       36            0\n",
       "5         3158       2.0       7.65       36            4\n",
       "6         1529       6.0       4.25       36            1\n",
       "7         1653       6.0       1.85       36            1\n",
       "8         1650       6.0       1.85       36            1\n",
       "9          244      23.5       1.69       36            3"
      ]
     },
     "execution_count": 52,
     "metadata": {},
     "output_type": "execute_result"
    }
   ],
   "source": [
    "df_1[\"Clus_kmeans\"] = labels\n",
    "df_1.head(10)"
   ]
  },
  {
   "cell_type": "code",
   "execution_count": 53,
   "metadata": {},
   "outputs": [
    {
     "data": {
      "text/html": [
       "<div>\n",
       "<style scoped>\n",
       "    .dataframe tbody tr th:only-of-type {\n",
       "        vertical-align: middle;\n",
       "    }\n",
       "\n",
       "    .dataframe tbody tr th {\n",
       "        vertical-align: top;\n",
       "    }\n",
       "\n",
       "    .dataframe thead th {\n",
       "        text-align: right;\n",
       "    }\n",
       "</style>\n",
       "<table border=\"1\" class=\"dataframe\">\n",
       "  <thead>\n",
       "    <tr style=\"text-align: right;\">\n",
       "      <th></th>\n",
       "      <th>InvoiceNo</th>\n",
       "      <th>StockCode</th>\n",
       "      <th>Description</th>\n",
       "      <th>Quantity</th>\n",
       "      <th>InvoiceDate</th>\n",
       "      <th>UnitPrice</th>\n",
       "      <th>CustomerID</th>\n",
       "      <th>Country</th>\n",
       "    </tr>\n",
       "  </thead>\n",
       "  <tbody>\n",
       "    <tr>\n",
       "      <th>0</th>\n",
       "      <td>0</td>\n",
       "      <td>3670</td>\n",
       "      <td>3918</td>\n",
       "      <td>6.0</td>\n",
       "      <td>2010-12-01 08:26:00</td>\n",
       "      <td>2.55</td>\n",
       "      <td>17850.0</td>\n",
       "      <td>36</td>\n",
       "    </tr>\n",
       "    <tr>\n",
       "      <th>1</th>\n",
       "      <td>0</td>\n",
       "      <td>2537</td>\n",
       "      <td>3926</td>\n",
       "      <td>6.0</td>\n",
       "      <td>2010-12-01 08:26:00</td>\n",
       "      <td>3.39</td>\n",
       "      <td>17850.0</td>\n",
       "      <td>36</td>\n",
       "    </tr>\n",
       "    <tr>\n",
       "      <th>2</th>\n",
       "      <td>0</td>\n",
       "      <td>3348</td>\n",
       "      <td>913</td>\n",
       "      <td>8.0</td>\n",
       "      <td>2010-12-01 08:26:00</td>\n",
       "      <td>2.75</td>\n",
       "      <td>17850.0</td>\n",
       "      <td>36</td>\n",
       "    </tr>\n",
       "    <tr>\n",
       "      <th>3</th>\n",
       "      <td>0</td>\n",
       "      <td>3312</td>\n",
       "      <td>1910</td>\n",
       "      <td>6.0</td>\n",
       "      <td>2010-12-01 08:26:00</td>\n",
       "      <td>3.39</td>\n",
       "      <td>17850.0</td>\n",
       "      <td>36</td>\n",
       "    </tr>\n",
       "    <tr>\n",
       "      <th>4</th>\n",
       "      <td>0</td>\n",
       "      <td>3311</td>\n",
       "      <td>2911</td>\n",
       "      <td>6.0</td>\n",
       "      <td>2010-12-01 08:26:00</td>\n",
       "      <td>3.39</td>\n",
       "      <td>17850.0</td>\n",
       "      <td>36</td>\n",
       "    </tr>\n",
       "  </tbody>\n",
       "</table>\n",
       "</div>"
      ],
      "text/plain": [
       "   InvoiceNo  StockCode  Description  Quantity         InvoiceDate  UnitPrice  \\\n",
       "0          0       3670         3918       6.0 2010-12-01 08:26:00       2.55   \n",
       "1          0       2537         3926       6.0 2010-12-01 08:26:00       3.39   \n",
       "2          0       3348          913       8.0 2010-12-01 08:26:00       2.75   \n",
       "3          0       3312         1910       6.0 2010-12-01 08:26:00       3.39   \n",
       "4          0       3311         2911       6.0 2010-12-01 08:26:00       3.39   \n",
       "\n",
       "   CustomerID  Country  \n",
       "0     17850.0       36  \n",
       "1     17850.0       36  \n",
       "2     17850.0       36  \n",
       "3     17850.0       36  \n",
       "4     17850.0       36  "
      ]
     },
     "execution_count": 53,
     "metadata": {},
     "output_type": "execute_result"
    }
   ],
   "source": [
    "df.head()"
   ]
  },
  {
   "cell_type": "code",
   "execution_count": 54,
   "metadata": {},
   "outputs": [
    {
     "data": {
      "text/html": [
       "<div>\n",
       "<style scoped>\n",
       "    .dataframe tbody tr th:only-of-type {\n",
       "        vertical-align: middle;\n",
       "    }\n",
       "\n",
       "    .dataframe tbody tr th {\n",
       "        vertical-align: top;\n",
       "    }\n",
       "\n",
       "    .dataframe thead th {\n",
       "        text-align: right;\n",
       "    }\n",
       "</style>\n",
       "<table border=\"1\" class=\"dataframe\">\n",
       "  <thead>\n",
       "    <tr style=\"text-align: right;\">\n",
       "      <th></th>\n",
       "      <th>InvoiceNo</th>\n",
       "      <th>StockCode</th>\n",
       "      <th>Description</th>\n",
       "      <th>Quantity</th>\n",
       "      <th>InvoiceDate</th>\n",
       "      <th>UnitPrice</th>\n",
       "      <th>CustomerID</th>\n",
       "      <th>Country</th>\n",
       "    </tr>\n",
       "  </thead>\n",
       "  <tbody>\n",
       "    <tr>\n",
       "      <th>0</th>\n",
       "      <td>536365</td>\n",
       "      <td>85123A</td>\n",
       "      <td>WHITE HANGING HEART T-LIGHT HOLDER</td>\n",
       "      <td>6</td>\n",
       "      <td>2010-12-01 08:26:00</td>\n",
       "      <td>2.55</td>\n",
       "      <td>17850.0</td>\n",
       "      <td>United Kingdom</td>\n",
       "    </tr>\n",
       "    <tr>\n",
       "      <th>1</th>\n",
       "      <td>536365</td>\n",
       "      <td>71053</td>\n",
       "      <td>WHITE METAL LANTERN</td>\n",
       "      <td>6</td>\n",
       "      <td>2010-12-01 08:26:00</td>\n",
       "      <td>3.39</td>\n",
       "      <td>17850.0</td>\n",
       "      <td>United Kingdom</td>\n",
       "    </tr>\n",
       "    <tr>\n",
       "      <th>2</th>\n",
       "      <td>536365</td>\n",
       "      <td>84406B</td>\n",
       "      <td>CREAM CUPID HEARTS COAT HANGER</td>\n",
       "      <td>8</td>\n",
       "      <td>2010-12-01 08:26:00</td>\n",
       "      <td>2.75</td>\n",
       "      <td>17850.0</td>\n",
       "      <td>United Kingdom</td>\n",
       "    </tr>\n",
       "    <tr>\n",
       "      <th>3</th>\n",
       "      <td>536365</td>\n",
       "      <td>84029G</td>\n",
       "      <td>KNITTED UNION FLAG HOT WATER BOTTLE</td>\n",
       "      <td>6</td>\n",
       "      <td>2010-12-01 08:26:00</td>\n",
       "      <td>3.39</td>\n",
       "      <td>17850.0</td>\n",
       "      <td>United Kingdom</td>\n",
       "    </tr>\n",
       "    <tr>\n",
       "      <th>4</th>\n",
       "      <td>536365</td>\n",
       "      <td>84029E</td>\n",
       "      <td>RED WOOLLY HOTTIE WHITE HEART.</td>\n",
       "      <td>6</td>\n",
       "      <td>2010-12-01 08:26:00</td>\n",
       "      <td>3.39</td>\n",
       "      <td>17850.0</td>\n",
       "      <td>United Kingdom</td>\n",
       "    </tr>\n",
       "    <tr>\n",
       "      <th>5</th>\n",
       "      <td>536365</td>\n",
       "      <td>22752</td>\n",
       "      <td>SET 7 BABUSHKA NESTING BOXES</td>\n",
       "      <td>2</td>\n",
       "      <td>2010-12-01 08:26:00</td>\n",
       "      <td>7.65</td>\n",
       "      <td>17850.0</td>\n",
       "      <td>United Kingdom</td>\n",
       "    </tr>\n",
       "    <tr>\n",
       "      <th>6</th>\n",
       "      <td>536365</td>\n",
       "      <td>21730</td>\n",
       "      <td>GLASS STAR FROSTED T-LIGHT HOLDER</td>\n",
       "      <td>6</td>\n",
       "      <td>2010-12-01 08:26:00</td>\n",
       "      <td>4.25</td>\n",
       "      <td>17850.0</td>\n",
       "      <td>United Kingdom</td>\n",
       "    </tr>\n",
       "    <tr>\n",
       "      <th>7</th>\n",
       "      <td>536366</td>\n",
       "      <td>22633</td>\n",
       "      <td>HAND WARMER UNION JACK</td>\n",
       "      <td>6</td>\n",
       "      <td>2010-12-01 08:28:00</td>\n",
       "      <td>1.85</td>\n",
       "      <td>17850.0</td>\n",
       "      <td>United Kingdom</td>\n",
       "    </tr>\n",
       "    <tr>\n",
       "      <th>8</th>\n",
       "      <td>536366</td>\n",
       "      <td>22632</td>\n",
       "      <td>HAND WARMER RED POLKA DOT</td>\n",
       "      <td>6</td>\n",
       "      <td>2010-12-01 08:28:00</td>\n",
       "      <td>1.85</td>\n",
       "      <td>17850.0</td>\n",
       "      <td>United Kingdom</td>\n",
       "    </tr>\n",
       "    <tr>\n",
       "      <th>9</th>\n",
       "      <td>536367</td>\n",
       "      <td>84879</td>\n",
       "      <td>ASSORTED COLOUR BIRD ORNAMENT</td>\n",
       "      <td>32</td>\n",
       "      <td>2010-12-01 08:34:00</td>\n",
       "      <td>1.69</td>\n",
       "      <td>13047.0</td>\n",
       "      <td>United Kingdom</td>\n",
       "    </tr>\n",
       "  </tbody>\n",
       "</table>\n",
       "</div>"
      ],
      "text/plain": [
       "  InvoiceNo StockCode                          Description  Quantity  \\\n",
       "0    536365    85123A   WHITE HANGING HEART T-LIGHT HOLDER         6   \n",
       "1    536365     71053                  WHITE METAL LANTERN         6   \n",
       "2    536365    84406B       CREAM CUPID HEARTS COAT HANGER         8   \n",
       "3    536365    84029G  KNITTED UNION FLAG HOT WATER BOTTLE         6   \n",
       "4    536365    84029E       RED WOOLLY HOTTIE WHITE HEART.         6   \n",
       "5    536365     22752         SET 7 BABUSHKA NESTING BOXES         2   \n",
       "6    536365     21730    GLASS STAR FROSTED T-LIGHT HOLDER         6   \n",
       "7    536366     22633               HAND WARMER UNION JACK         6   \n",
       "8    536366     22632            HAND WARMER RED POLKA DOT         6   \n",
       "9    536367     84879        ASSORTED COLOUR BIRD ORNAMENT        32   \n",
       "\n",
       "          InvoiceDate  UnitPrice  CustomerID         Country  \n",
       "0 2010-12-01 08:26:00       2.55     17850.0  United Kingdom  \n",
       "1 2010-12-01 08:26:00       3.39     17850.0  United Kingdom  \n",
       "2 2010-12-01 08:26:00       2.75     17850.0  United Kingdom  \n",
       "3 2010-12-01 08:26:00       3.39     17850.0  United Kingdom  \n",
       "4 2010-12-01 08:26:00       3.39     17850.0  United Kingdom  \n",
       "5 2010-12-01 08:26:00       7.65     17850.0  United Kingdom  \n",
       "6 2010-12-01 08:26:00       4.25     17850.0  United Kingdom  \n",
       "7 2010-12-01 08:28:00       1.85     17850.0  United Kingdom  \n",
       "8 2010-12-01 08:28:00       1.85     17850.0  United Kingdom  \n",
       "9 2010-12-01 08:34:00       1.69     13047.0  United Kingdom  "
      ]
     },
     "execution_count": 54,
     "metadata": {},
     "output_type": "execute_result"
    }
   ],
   "source": [
    "df_clus=pd.read_excel('Online Retail.xlsx')\n",
    "df_clus.head(10)"
   ]
  },
  {
   "cell_type": "code",
   "execution_count": 55,
   "metadata": {},
   "outputs": [
    {
     "data": {
      "text/html": [
       "<div>\n",
       "<style scoped>\n",
       "    .dataframe tbody tr th:only-of-type {\n",
       "        vertical-align: middle;\n",
       "    }\n",
       "\n",
       "    .dataframe tbody tr th {\n",
       "        vertical-align: top;\n",
       "    }\n",
       "\n",
       "    .dataframe thead th {\n",
       "        text-align: right;\n",
       "    }\n",
       "</style>\n",
       "<table border=\"1\" class=\"dataframe\">\n",
       "  <thead>\n",
       "    <tr style=\"text-align: right;\">\n",
       "      <th></th>\n",
       "      <th>InvoiceNo</th>\n",
       "      <th>StockCode</th>\n",
       "      <th>Description</th>\n",
       "      <th>Quantity</th>\n",
       "      <th>InvoiceDate</th>\n",
       "      <th>UnitPrice</th>\n",
       "      <th>CustomerID</th>\n",
       "      <th>Country</th>\n",
       "      <th>Clus_kmeans</th>\n",
       "    </tr>\n",
       "  </thead>\n",
       "  <tbody>\n",
       "    <tr>\n",
       "      <th>0</th>\n",
       "      <td>536365</td>\n",
       "      <td>85123A</td>\n",
       "      <td>WHITE HANGING HEART T-LIGHT HOLDER</td>\n",
       "      <td>6</td>\n",
       "      <td>2010-12-01 08:26:00</td>\n",
       "      <td>2.55</td>\n",
       "      <td>17850.0</td>\n",
       "      <td>United Kingdom</td>\n",
       "      <td>0</td>\n",
       "    </tr>\n",
       "    <tr>\n",
       "      <th>1</th>\n",
       "      <td>536365</td>\n",
       "      <td>71053</td>\n",
       "      <td>WHITE METAL LANTERN</td>\n",
       "      <td>6</td>\n",
       "      <td>2010-12-01 08:26:00</td>\n",
       "      <td>3.39</td>\n",
       "      <td>17850.0</td>\n",
       "      <td>United Kingdom</td>\n",
       "      <td>0</td>\n",
       "    </tr>\n",
       "    <tr>\n",
       "      <th>2</th>\n",
       "      <td>536365</td>\n",
       "      <td>84406B</td>\n",
       "      <td>CREAM CUPID HEARTS COAT HANGER</td>\n",
       "      <td>8</td>\n",
       "      <td>2010-12-01 08:26:00</td>\n",
       "      <td>2.75</td>\n",
       "      <td>17850.0</td>\n",
       "      <td>United Kingdom</td>\n",
       "      <td>1</td>\n",
       "    </tr>\n",
       "    <tr>\n",
       "      <th>3</th>\n",
       "      <td>536365</td>\n",
       "      <td>84029G</td>\n",
       "      <td>KNITTED UNION FLAG HOT WATER BOTTLE</td>\n",
       "      <td>6</td>\n",
       "      <td>2010-12-01 08:26:00</td>\n",
       "      <td>3.39</td>\n",
       "      <td>17850.0</td>\n",
       "      <td>United Kingdom</td>\n",
       "      <td>1</td>\n",
       "    </tr>\n",
       "    <tr>\n",
       "      <th>4</th>\n",
       "      <td>536365</td>\n",
       "      <td>84029E</td>\n",
       "      <td>RED WOOLLY HOTTIE WHITE HEART.</td>\n",
       "      <td>6</td>\n",
       "      <td>2010-12-01 08:26:00</td>\n",
       "      <td>3.39</td>\n",
       "      <td>17850.0</td>\n",
       "      <td>United Kingdom</td>\n",
       "      <td>0</td>\n",
       "    </tr>\n",
       "    <tr>\n",
       "      <th>5</th>\n",
       "      <td>536365</td>\n",
       "      <td>22752</td>\n",
       "      <td>SET 7 BABUSHKA NESTING BOXES</td>\n",
       "      <td>2</td>\n",
       "      <td>2010-12-01 08:26:00</td>\n",
       "      <td>7.65</td>\n",
       "      <td>17850.0</td>\n",
       "      <td>United Kingdom</td>\n",
       "      <td>4</td>\n",
       "    </tr>\n",
       "    <tr>\n",
       "      <th>6</th>\n",
       "      <td>536365</td>\n",
       "      <td>21730</td>\n",
       "      <td>GLASS STAR FROSTED T-LIGHT HOLDER</td>\n",
       "      <td>6</td>\n",
       "      <td>2010-12-01 08:26:00</td>\n",
       "      <td>4.25</td>\n",
       "      <td>17850.0</td>\n",
       "      <td>United Kingdom</td>\n",
       "      <td>1</td>\n",
       "    </tr>\n",
       "    <tr>\n",
       "      <th>7</th>\n",
       "      <td>536366</td>\n",
       "      <td>22633</td>\n",
       "      <td>HAND WARMER UNION JACK</td>\n",
       "      <td>6</td>\n",
       "      <td>2010-12-01 08:28:00</td>\n",
       "      <td>1.85</td>\n",
       "      <td>17850.0</td>\n",
       "      <td>United Kingdom</td>\n",
       "      <td>1</td>\n",
       "    </tr>\n",
       "    <tr>\n",
       "      <th>8</th>\n",
       "      <td>536366</td>\n",
       "      <td>22632</td>\n",
       "      <td>HAND WARMER RED POLKA DOT</td>\n",
       "      <td>6</td>\n",
       "      <td>2010-12-01 08:28:00</td>\n",
       "      <td>1.85</td>\n",
       "      <td>17850.0</td>\n",
       "      <td>United Kingdom</td>\n",
       "      <td>1</td>\n",
       "    </tr>\n",
       "    <tr>\n",
       "      <th>9</th>\n",
       "      <td>536367</td>\n",
       "      <td>84879</td>\n",
       "      <td>ASSORTED COLOUR BIRD ORNAMENT</td>\n",
       "      <td>32</td>\n",
       "      <td>2010-12-01 08:34:00</td>\n",
       "      <td>1.69</td>\n",
       "      <td>13047.0</td>\n",
       "      <td>United Kingdom</td>\n",
       "      <td>3</td>\n",
       "    </tr>\n",
       "  </tbody>\n",
       "</table>\n",
       "</div>"
      ],
      "text/plain": [
       "  InvoiceNo StockCode                          Description  Quantity  \\\n",
       "0    536365    85123A   WHITE HANGING HEART T-LIGHT HOLDER         6   \n",
       "1    536365     71053                  WHITE METAL LANTERN         6   \n",
       "2    536365    84406B       CREAM CUPID HEARTS COAT HANGER         8   \n",
       "3    536365    84029G  KNITTED UNION FLAG HOT WATER BOTTLE         6   \n",
       "4    536365    84029E       RED WOOLLY HOTTIE WHITE HEART.         6   \n",
       "5    536365     22752         SET 7 BABUSHKA NESTING BOXES         2   \n",
       "6    536365     21730    GLASS STAR FROSTED T-LIGHT HOLDER         6   \n",
       "7    536366     22633               HAND WARMER UNION JACK         6   \n",
       "8    536366     22632            HAND WARMER RED POLKA DOT         6   \n",
       "9    536367     84879        ASSORTED COLOUR BIRD ORNAMENT        32   \n",
       "\n",
       "          InvoiceDate  UnitPrice  CustomerID         Country  Clus_kmeans  \n",
       "0 2010-12-01 08:26:00       2.55     17850.0  United Kingdom            0  \n",
       "1 2010-12-01 08:26:00       3.39     17850.0  United Kingdom            0  \n",
       "2 2010-12-01 08:26:00       2.75     17850.0  United Kingdom            1  \n",
       "3 2010-12-01 08:26:00       3.39     17850.0  United Kingdom            1  \n",
       "4 2010-12-01 08:26:00       3.39     17850.0  United Kingdom            0  \n",
       "5 2010-12-01 08:26:00       7.65     17850.0  United Kingdom            4  \n",
       "6 2010-12-01 08:26:00       4.25     17850.0  United Kingdom            1  \n",
       "7 2010-12-01 08:28:00       1.85     17850.0  United Kingdom            1  \n",
       "8 2010-12-01 08:28:00       1.85     17850.0  United Kingdom            1  \n",
       "9 2010-12-01 08:34:00       1.69     13047.0  United Kingdom            3  "
      ]
     },
     "execution_count": 55,
     "metadata": {},
     "output_type": "execute_result"
    }
   ],
   "source": [
    "df_clus[\"Clus_kmeans\"] = labels\n",
    "df_clus.head(10)"
   ]
  },
  {
   "cell_type": "code",
   "execution_count": 56,
   "metadata": {},
   "outputs": [
    {
     "data": {
      "text/html": [
       "<div>\n",
       "<style scoped>\n",
       "    .dataframe tbody tr th:only-of-type {\n",
       "        vertical-align: middle;\n",
       "    }\n",
       "\n",
       "    .dataframe tbody tr th {\n",
       "        vertical-align: top;\n",
       "    }\n",
       "\n",
       "    .dataframe thead th {\n",
       "        text-align: right;\n",
       "    }\n",
       "</style>\n",
       "<table border=\"1\" class=\"dataframe\">\n",
       "  <thead>\n",
       "    <tr style=\"text-align: right;\">\n",
       "      <th></th>\n",
       "      <th>InvoiceNo</th>\n",
       "      <th>StockCode</th>\n",
       "      <th>Description</th>\n",
       "      <th>Quantity</th>\n",
       "      <th>InvoiceDate</th>\n",
       "      <th>UnitPrice</th>\n",
       "      <th>CustomerID</th>\n",
       "      <th>Country</th>\n",
       "    </tr>\n",
       "    <tr>\n",
       "      <th>Clus_kmeans</th>\n",
       "      <th></th>\n",
       "      <th></th>\n",
       "      <th></th>\n",
       "      <th></th>\n",
       "      <th></th>\n",
       "      <th></th>\n",
       "      <th></th>\n",
       "      <th></th>\n",
       "    </tr>\n",
       "  </thead>\n",
       "  <tbody>\n",
       "    <tr>\n",
       "      <th>1</th>\n",
       "      <td>187438</td>\n",
       "      <td>187438</td>\n",
       "      <td>187438</td>\n",
       "      <td>187438</td>\n",
       "      <td>187438</td>\n",
       "      <td>187438</td>\n",
       "      <td>139219</td>\n",
       "      <td>187438</td>\n",
       "    </tr>\n",
       "    <tr>\n",
       "      <th>0</th>\n",
       "      <td>172432</td>\n",
       "      <td>172432</td>\n",
       "      <td>171179</td>\n",
       "      <td>172432</td>\n",
       "      <td>172432</td>\n",
       "      <td>172432</td>\n",
       "      <td>125804</td>\n",
       "      <td>172432</td>\n",
       "    </tr>\n",
       "    <tr>\n",
       "      <th>4</th>\n",
       "      <td>87721</td>\n",
       "      <td>87721</td>\n",
       "      <td>87721</td>\n",
       "      <td>87721</td>\n",
       "      <td>87721</td>\n",
       "      <td>87721</td>\n",
       "      <td>51922</td>\n",
       "      <td>87721</td>\n",
       "    </tr>\n",
       "    <tr>\n",
       "      <th>3</th>\n",
       "      <td>59433</td>\n",
       "      <td>59433</td>\n",
       "      <td>59232</td>\n",
       "      <td>59433</td>\n",
       "      <td>59433</td>\n",
       "      <td>59433</td>\n",
       "      <td>56113</td>\n",
       "      <td>59433</td>\n",
       "    </tr>\n",
       "    <tr>\n",
       "      <th>2</th>\n",
       "      <td>34885</td>\n",
       "      <td>34885</td>\n",
       "      <td>34885</td>\n",
       "      <td>34885</td>\n",
       "      <td>34885</td>\n",
       "      <td>34885</td>\n",
       "      <td>33771</td>\n",
       "      <td>34885</td>\n",
       "    </tr>\n",
       "  </tbody>\n",
       "</table>\n",
       "</div>"
      ],
      "text/plain": [
       "             InvoiceNo  StockCode  Description  Quantity  InvoiceDate  \\\n",
       "Clus_kmeans                                                             \n",
       "1               187438     187438       187438    187438       187438   \n",
       "0               172432     172432       171179    172432       172432   \n",
       "4                87721      87721        87721     87721        87721   \n",
       "3                59433      59433        59232     59433        59433   \n",
       "2                34885      34885        34885     34885        34885   \n",
       "\n",
       "             UnitPrice  CustomerID  Country  \n",
       "Clus_kmeans                                  \n",
       "1               187438      139219   187438  \n",
       "0               172432      125804   172432  \n",
       "4                87721       51922    87721  \n",
       "3                59433       56113    59433  \n",
       "2                34885       33771    34885  "
      ]
     },
     "execution_count": 56,
     "metadata": {},
     "output_type": "execute_result"
    }
   ],
   "source": [
    "df_clus.groupby('Clus_kmeans').count().sort_values('InvoiceNo',ascending=False)"
   ]
  },
  {
   "cell_type": "markdown",
   "metadata": {},
   "source": [
    "**We see in above table that highest number of transaction done by those customers who are belong to cluster 1 and cluster 0 means these are very good and active customers for retail store. so, retail store owner must have to taken care of them and try to make friendly relationship with them.<br>\n",
    "We also observe that lowest number of transaction done by those customers who are from cluster 2 and cluster 3 means these are very low perfromer and less active customers of retail store and have higher chance of churning. so, Retail store owner must have to focus on those customers who are belong to cluster 2 and cluster 3 and must have to find out the reason why they dont do more transaction with them and what problems they are facing with retail store. so, based on that retail store provide good service and attracting offers and discount offer to them and try to attract them. so they will stay with store for longer time.<br>\n",
    "We also see that customers who belong to cluster 4 are average performer. so, we also have to focus on these category of customers and try to attract them with some advertisement, discount offers.so, they will do more transaction with retail store and become very good customer of Retail store and stay with store for long time.**"
   ]
  },
  {
   "cell_type": "markdown",
   "metadata": {},
   "source": [
    "## Model Building "
   ]
  },
  {
   "cell_type": "code",
   "execution_count": 57,
   "metadata": {},
   "outputs": [],
   "source": [
    "X=df.drop(['UnitPrice','InvoiceNo','StockCode','InvoiceDate','CustomerID'],axis=1)\n",
    "y=df['UnitPrice']\n",
    "x_train,x_test,y_train,y_test=train_test_split(X,y,test_size=0.30,random_state=1)"
   ]
  },
  {
   "cell_type": "code",
   "execution_count": 58,
   "metadata": {},
   "outputs": [
    {
     "data": {
      "text/html": [
       "<div>\n",
       "<style scoped>\n",
       "    .dataframe tbody tr th:only-of-type {\n",
       "        vertical-align: middle;\n",
       "    }\n",
       "\n",
       "    .dataframe tbody tr th {\n",
       "        vertical-align: top;\n",
       "    }\n",
       "\n",
       "    .dataframe thead th {\n",
       "        text-align: right;\n",
       "    }\n",
       "</style>\n",
       "<table border=\"1\" class=\"dataframe\">\n",
       "  <thead>\n",
       "    <tr style=\"text-align: right;\">\n",
       "      <th></th>\n",
       "      <th>Description</th>\n",
       "      <th>Quantity</th>\n",
       "      <th>Country</th>\n",
       "    </tr>\n",
       "  </thead>\n",
       "  <tbody>\n",
       "    <tr>\n",
       "      <th>387168</th>\n",
       "      <td>368</td>\n",
       "      <td>23.5</td>\n",
       "      <td>36</td>\n",
       "    </tr>\n",
       "    <tr>\n",
       "      <th>310839</th>\n",
       "      <td>2106</td>\n",
       "      <td>12.0</td>\n",
       "      <td>36</td>\n",
       "    </tr>\n",
       "    <tr>\n",
       "      <th>519047</th>\n",
       "      <td>2493</td>\n",
       "      <td>12.0</td>\n",
       "      <td>36</td>\n",
       "    </tr>\n",
       "    <tr>\n",
       "      <th>440442</th>\n",
       "      <td>3796</td>\n",
       "      <td>2.0</td>\n",
       "      <td>36</td>\n",
       "    </tr>\n",
       "    <tr>\n",
       "      <th>213553</th>\n",
       "      <td>308</td>\n",
       "      <td>20.0</td>\n",
       "      <td>36</td>\n",
       "    </tr>\n",
       "  </tbody>\n",
       "</table>\n",
       "</div>"
      ],
      "text/plain": [
       "        Description  Quantity  Country\n",
       "387168          368      23.5       36\n",
       "310839         2106      12.0       36\n",
       "519047         2493      12.0       36\n",
       "440442         3796       2.0       36\n",
       "213553          308      20.0       36"
      ]
     },
     "execution_count": 58,
     "metadata": {},
     "output_type": "execute_result"
    }
   ],
   "source": [
    "x_train.head()"
   ]
  },
  {
   "cell_type": "code",
   "execution_count": 59,
   "metadata": {},
   "outputs": [
    {
     "data": {
      "text/html": [
       "<div>\n",
       "<style scoped>\n",
       "    .dataframe tbody tr th:only-of-type {\n",
       "        vertical-align: middle;\n",
       "    }\n",
       "\n",
       "    .dataframe tbody tr th {\n",
       "        vertical-align: top;\n",
       "    }\n",
       "\n",
       "    .dataframe thead th {\n",
       "        text-align: right;\n",
       "    }\n",
       "</style>\n",
       "<table border=\"1\" class=\"dataframe\">\n",
       "  <thead>\n",
       "    <tr style=\"text-align: right;\">\n",
       "      <th></th>\n",
       "      <th>Description</th>\n",
       "      <th>Quantity</th>\n",
       "      <th>Country</th>\n",
       "    </tr>\n",
       "  </thead>\n",
       "  <tbody>\n",
       "    <tr>\n",
       "      <th>94801</th>\n",
       "      <td>1833</td>\n",
       "      <td>-2.0</td>\n",
       "      <td>36</td>\n",
       "    </tr>\n",
       "    <tr>\n",
       "      <th>210111</th>\n",
       "      <td>1067</td>\n",
       "      <td>1.0</td>\n",
       "      <td>36</td>\n",
       "    </tr>\n",
       "    <tr>\n",
       "      <th>455946</th>\n",
       "      <td>112</td>\n",
       "      <td>23.5</td>\n",
       "      <td>36</td>\n",
       "    </tr>\n",
       "    <tr>\n",
       "      <th>403542</th>\n",
       "      <td>1604</td>\n",
       "      <td>16.0</td>\n",
       "      <td>36</td>\n",
       "    </tr>\n",
       "    <tr>\n",
       "      <th>471951</th>\n",
       "      <td>2709</td>\n",
       "      <td>12.0</td>\n",
       "      <td>14</td>\n",
       "    </tr>\n",
       "  </tbody>\n",
       "</table>\n",
       "</div>"
      ],
      "text/plain": [
       "        Description  Quantity  Country\n",
       "94801          1833      -2.0       36\n",
       "210111         1067       1.0       36\n",
       "455946          112      23.5       36\n",
       "403542         1604      16.0       36\n",
       "471951         2709      12.0       14"
      ]
     },
     "execution_count": 59,
     "metadata": {},
     "output_type": "execute_result"
    }
   ],
   "source": [
    "x_test.head()"
   ]
  },
  {
   "cell_type": "code",
   "execution_count": 60,
   "metadata": {},
   "outputs": [
    {
     "data": {
      "text/plain": [
       "387168    2.49\n",
       "310839    2.95\n",
       "519047    0.39\n",
       "440442    8.25\n",
       "213553    0.42\n",
       "Name: UnitPrice, dtype: float64"
      ]
     },
     "execution_count": 60,
     "metadata": {},
     "output_type": "execute_result"
    }
   ],
   "source": [
    "y_train.head()"
   ]
  },
  {
   "cell_type": "markdown",
   "metadata": {},
   "source": [
    "## Random Forest"
   ]
  },
  {
   "cell_type": "code",
   "execution_count": 61,
   "metadata": {},
   "outputs": [],
   "source": [
    "from sklearn.ensemble import RandomForestRegressor"
   ]
  },
  {
   "cell_type": "code",
   "execution_count": 62,
   "metadata": {},
   "outputs": [],
   "source": [
    "rfcl = RandomForestRegressor()\n",
    "rfcl = rfcl.fit(x_train,y_train)"
   ]
  },
  {
   "cell_type": "code",
   "execution_count": 63,
   "metadata": {},
   "outputs": [
    {
     "data": {
      "text/plain": [
       "RandomForestRegressor()"
      ]
     },
     "execution_count": 63,
     "metadata": {},
     "output_type": "execute_result"
    }
   ],
   "source": [
    "rfcl"
   ]
  },
  {
   "cell_type": "code",
   "execution_count": 64,
   "metadata": {},
   "outputs": [
    {
     "data": {
      "text/plain": [
       "0.90021678203742"
      ]
     },
     "execution_count": 64,
     "metadata": {},
     "output_type": "execute_result"
    }
   ],
   "source": [
    "rfcl.score(x_train,y_train)"
   ]
  },
  {
   "cell_type": "code",
   "execution_count": 65,
   "metadata": {},
   "outputs": [
    {
     "data": {
      "text/plain": [
       "0.8651155332141968"
      ]
     },
     "execution_count": 65,
     "metadata": {},
     "output_type": "execute_result"
    }
   ],
   "source": [
    "rfcl.score(x_test,y_test)"
   ]
  },
  {
   "cell_type": "code",
   "execution_count": 66,
   "metadata": {},
   "outputs": [],
   "source": [
    "RF_y_train_predict = rfcl.predict(x_train)\n",
    "RF_y_test_predict = rfcl.predict(x_test)"
   ]
  },
  {
   "cell_type": "code",
   "execution_count": 67,
   "metadata": {},
   "outputs": [
    {
     "data": {
      "text/plain": [
       "0.7597742437652614"
      ]
     },
     "execution_count": 67,
     "metadata": {},
     "output_type": "execute_result"
    }
   ],
   "source": [
    "np.sqrt(metrics.mean_squared_error(y_train,RF_y_train_predict))"
   ]
  },
  {
   "cell_type": "code",
   "execution_count": 68,
   "metadata": {},
   "outputs": [
    {
     "data": {
      "text/plain": [
       "0.8845755492952154"
      ]
     },
     "execution_count": 68,
     "metadata": {},
     "output_type": "execute_result"
    }
   ],
   "source": [
    "np.sqrt(metrics.mean_squared_error(y_test,RF_y_test_predict))"
   ]
  },
  {
   "cell_type": "markdown",
   "metadata": {},
   "source": [
    "**We see that out of all models random forest perform very well and give very good accuracy value for train and test, also random forest give very good RMSE value for train and test compared to other models. so, we can go with random forest.**"
   ]
  },
  {
   "cell_type": "code",
   "execution_count": 69,
   "metadata": {},
   "outputs": [
    {
     "data": {
      "text/plain": [
       "array([0.76403015, 0.21426   , 0.02170985])"
      ]
     },
     "execution_count": 69,
     "metadata": {},
     "output_type": "execute_result"
    }
   ],
   "source": [
    "rfcl.feature_importances_"
   ]
  },
  {
   "cell_type": "code",
   "execution_count": 70,
   "metadata": {},
   "outputs": [
    {
     "name": "stdout",
     "output_type": "stream",
     "text": [
      "                 Imp\n",
      "Description  0.76403\n",
      "Quantity     0.21426\n",
      "Country      0.02171\n"
     ]
    }
   ],
   "source": [
    "print (pd.DataFrame(rfcl.feature_importances_, columns = [\"Imp\"], index = x_train.columns))"
   ]
  },
  {
   "cell_type": "markdown",
   "metadata": {},
   "source": [
    "**We see that random forest give the feature importance value of diffrent variables and we observe that out of all variables Description has very high value of feature importance means description plays major role for predicting Unit price and second most important variable is Quantity. so, Retail store must have to consider these two variables for predicting the Unit Price and want to increase sales.**"
   ]
  },
  {
   "cell_type": "markdown",
   "metadata": {},
   "source": [
    "## Ada Boost"
   ]
  },
  {
   "cell_type": "code",
   "execution_count": 71,
   "metadata": {},
   "outputs": [
    {
     "data": {
      "text/plain": [
       "AdaBoostRegressor(n_estimators=100, random_state=1)"
      ]
     },
     "execution_count": 71,
     "metadata": {},
     "output_type": "execute_result"
    }
   ],
   "source": [
    "from sklearn.ensemble import AdaBoostRegressor\n",
    "\n",
    "ADB_model = AdaBoostRegressor(n_estimators=100,random_state=1)\n",
    "ADB_model.fit(x_train,y_train)"
   ]
  },
  {
   "cell_type": "code",
   "execution_count": 72,
   "metadata": {},
   "outputs": [
    {
     "data": {
      "text/plain": [
       "0.06290615597018934"
      ]
     },
     "execution_count": 72,
     "metadata": {},
     "output_type": "execute_result"
    }
   ],
   "source": [
    "ADB_model.score(x_train,y_train)"
   ]
  },
  {
   "cell_type": "code",
   "execution_count": 73,
   "metadata": {},
   "outputs": [
    {
     "data": {
      "text/plain": [
       "0.06434862031505417"
      ]
     },
     "execution_count": 73,
     "metadata": {},
     "output_type": "execute_result"
    }
   ],
   "source": [
    "ADB_model.score(x_test,y_test)"
   ]
  },
  {
   "cell_type": "code",
   "execution_count": 74,
   "metadata": {},
   "outputs": [],
   "source": [
    "ADB_y_train_predict = ADB_model.predict(x_train)\n",
    "ADB_y_test_predict = ADB_model.predict(x_test)"
   ]
  },
  {
   "cell_type": "code",
   "execution_count": 75,
   "metadata": {},
   "outputs": [
    {
     "data": {
      "text/plain": [
       "2.328345132603002"
      ]
     },
     "execution_count": 75,
     "metadata": {},
     "output_type": "execute_result"
    }
   ],
   "source": [
    "np.sqrt(metrics.mean_squared_error(y_train,ADB_y_train_predict))"
   ]
  },
  {
   "cell_type": "code",
   "execution_count": 76,
   "metadata": {},
   "outputs": [
    {
     "data": {
      "text/plain": [
       "2.329758968400543"
      ]
     },
     "execution_count": 76,
     "metadata": {},
     "output_type": "execute_result"
    }
   ],
   "source": [
    "np.sqrt(metrics.mean_squared_error(y_test,ADB_y_test_predict))"
   ]
  },
  {
   "cell_type": "markdown",
   "metadata": {},
   "source": [
    "## Gradient Boost"
   ]
  },
  {
   "cell_type": "code",
   "execution_count": 77,
   "metadata": {},
   "outputs": [],
   "source": [
    "from sklearn.ensemble import GradientBoostingRegressor\n",
    "gbcl = GradientBoostingRegressor(random_state=1)\n",
    "gbcl = gbcl.fit(x_train, y_train)"
   ]
  },
  {
   "cell_type": "code",
   "execution_count": 78,
   "metadata": {},
   "outputs": [
    {
     "data": {
      "text/plain": [
       "0.3614635435207263"
      ]
     },
     "execution_count": 78,
     "metadata": {},
     "output_type": "execute_result"
    }
   ],
   "source": [
    "gbcl.score(x_train,y_train)"
   ]
  },
  {
   "cell_type": "code",
   "execution_count": 79,
   "metadata": {},
   "outputs": [
    {
     "data": {
      "text/plain": [
       "0.3620472759521969"
      ]
     },
     "execution_count": 79,
     "metadata": {},
     "output_type": "execute_result"
    }
   ],
   "source": [
    "gbcl.score(x_test,y_test)"
   ]
  },
  {
   "cell_type": "code",
   "execution_count": 80,
   "metadata": {},
   "outputs": [],
   "source": [
    "GB_y_train_predict = gbcl.predict(x_train)\n",
    "GB_y_test_predict = gbcl.predict(x_test)"
   ]
  },
  {
   "cell_type": "code",
   "execution_count": 81,
   "metadata": {},
   "outputs": [
    {
     "data": {
      "text/plain": [
       "1.9219791101970103"
      ]
     },
     "execution_count": 81,
     "metadata": {},
     "output_type": "execute_result"
    }
   ],
   "source": [
    "np.sqrt(metrics.mean_squared_error(y_train,GB_y_train_predict))"
   ]
  },
  {
   "cell_type": "code",
   "execution_count": 82,
   "metadata": {},
   "outputs": [
    {
     "data": {
      "text/plain": [
       "1.9237481232853524"
      ]
     },
     "execution_count": 82,
     "metadata": {},
     "output_type": "execute_result"
    }
   ],
   "source": [
    "np.sqrt(metrics.mean_squared_error(y_test,GB_y_test_predict))"
   ]
  },
  {
   "cell_type": "markdown",
   "metadata": {},
   "source": [
    "## Linear Regression"
   ]
  },
  {
   "cell_type": "code",
   "execution_count": 83,
   "metadata": {},
   "outputs": [],
   "source": [
    "lm=LinearRegression()"
   ]
  },
  {
   "cell_type": "code",
   "execution_count": 84,
   "metadata": {},
   "outputs": [
    {
     "data": {
      "text/plain": [
       "LinearRegression()"
      ]
     },
     "execution_count": 84,
     "metadata": {},
     "output_type": "execute_result"
    }
   ],
   "source": [
    "lm.fit(x_train,y_train)"
   ]
  },
  {
   "cell_type": "code",
   "execution_count": 85,
   "metadata": {},
   "outputs": [
    {
     "data": {
      "text/plain": [
       "0.13201116608498165"
      ]
     },
     "execution_count": 85,
     "metadata": {},
     "output_type": "execute_result"
    }
   ],
   "source": [
    "lm.score(x_train,y_train)"
   ]
  },
  {
   "cell_type": "code",
   "execution_count": 86,
   "metadata": {},
   "outputs": [
    {
     "data": {
      "text/plain": [
       "0.1332362125379648"
      ]
     },
     "execution_count": 86,
     "metadata": {},
     "output_type": "execute_result"
    }
   ],
   "source": [
    "lm.score(x_test,y_test)"
   ]
  },
  {
   "cell_type": "code",
   "execution_count": 87,
   "metadata": {},
   "outputs": [
    {
     "data": {
      "text/plain": [
       "2.2408505003515926"
      ]
     },
     "execution_count": 87,
     "metadata": {},
     "output_type": "execute_result"
    }
   ],
   "source": [
    "predicted_train=lm.predict(x_train)\n",
    "np.sqrt(metrics.mean_squared_error(y_train,predicted_train))"
   ]
  },
  {
   "cell_type": "code",
   "execution_count": 88,
   "metadata": {},
   "outputs": [
    {
     "data": {
      "text/plain": [
       "2.2423548504729647"
      ]
     },
     "execution_count": 88,
     "metadata": {},
     "output_type": "execute_result"
    }
   ],
   "source": [
    "predicted_test=lm.predict(x_test)\n",
    "np.sqrt(metrics.mean_squared_error(y_test,predicted_test))"
   ]
  },
  {
   "cell_type": "markdown",
   "metadata": {},
   "source": [
    "# Insights From Analysis:"
   ]
  },
  {
   "cell_type": "markdown",
   "metadata": {},
   "source": [
    "**We observe that highest sold products are \"White Hanging heart T-Light holder\", \"Regency cakestand 3 Tier\", \"Jumbo Bag red retrospot\", \"Party bunting\", \"Lunch bag red retrospot\".**<br>\n",
    "\n",
    "**We also observe that some of least demanded product which is rarely order and the 5 lowest ordered products are ORANGE FELT, VASE + FLOWERS, OPULENT VELVET SET/3 CANDLES, OOPS ! adjustment, OOH LA LA DOGS COLLAR, wrongly sold sets.**\n",
    "\n",
    "**We see that highest numbers of Transaction done by those customers who are from United kingdom, germany, France, EIRE, Spain.**<br>\n",
    "\n",
    "**We also observe lowest transaction done by those customers who are from Lithuania, Brazil, Czech Republic, Bahrain and Saudi Arabia.**<br>\n",
    "\n",
    "**We see in table that highest average quantity order by those customers who are from Netherlands, Second highest average quantity order by those customers who are from Sweden, Third highest average quantity order by those customers who are from Japan, Fourth highest average quantity order by those customers who are from Australia, Fifth highest average quantity order by those customers who are from Singapore.**<br>\n",
    "\n",
    "**We see in table that Lowest average quantity order by those customers who are from USA, Second Lowest average quantity order by those customers who are from RSA, Third Lowest average quantity order by those customers who are belong to Unspecified category, Fourth Lowest average quantity order by those customers who are  from Malta, Fifth Lowest average quantity order by those customers who are from Saudi Arabia.**<br>\n",
    "\n",
    "**We see table and observe that on basis of average quantity highest ordered products are \"came coded as 20713\", \"TEA TIME TEA TOWELS\", \"did a credit and did not tick ret\", \"wrongly coded 23343\", \"Marked as 23343\"**<br>\n",
    "\n",
    "**We see in table that there are also some least ordered product based on average quantity and those products are mouldy, thrown away, wrongly marked.23343 in box, throw away, Printing smudges/thrown away, printing smudges/thrown away<br>**\n",
    "\n",
    "**We see in table that \"Amazon fee\" has highest average unit price, \"PICNIC BASKET WICKER 60 PIECES\" has Second highest average unit price, \"CRUK Commission\" has Third highest average unit price, \"Manual\" has Fourth highest average unit price, \"DOTCOM POSTAGE\" has Fifth highest average unit price**<br>\n",
    "\n",
    "**We see in table that many products have 0 unit price or negative unit price which are \"add stock to allocate online orders\" has unit price about 0.0, \"adjust\" has unit price about 0.0, \"adjustment\" has unit price about 0.0, \"wrongly sold sets\" has unit price about 0.0, \"Adjust bad debt\" has unit price about -3687.353333**<br>\n",
    "\n",
    "**We see in countplot that highest number of transaction done by those customers who are from United kingdom, Second highest from France, Third highest from Australia, Fourth highest from Netherlands, Fifth highest from Germany.**<br>\n",
    "\n",
    "**We see in countplot that Lowest number of transaction done by those customers who are from RSA, Malta, Community, European, USA.**<br>\n",
    "\n",
    "**We see in above table that highest number of transaction done by those customers who belong to cluster 1 and cluster 0<br>\n",
    "We also observe that lowest number of transaction done by those customers who belong to cluster 2 and cluster 3<br>\n",
    "We also see that customers who belong to cluster 4 are average performer.**<br>"
   ]
  },
  {
   "cell_type": "markdown",
   "metadata": {},
   "source": [
    "## Recomandation:"
   ]
  },
  {
   "cell_type": "markdown",
   "metadata": {},
   "source": [
    "**We observe that highest sold products are \"White Hanging heart T-Light holder\", \"Regency cakestand 3 Tier\", \"Jumbo Bag red retrospot\", \"Party bunting\", \"Lunch bag red retrospot\" that means these products are in high demand so retail store owner must have to maintain the supply and demand properly for these products and try to make that items available for customers because they are very high in demand.**<br>\n",
    "\n",
    "**We also observe some of least demanded product which is rarely order and the 5 lowest ordered products are ORANGE FELT, VASE + FLOWERS, OPULENT VELVET SET/3 CANDLES, OOPS ! adjustment, OOH LA LA DOGS COLLAR, wrongly sold sets. so, Retail store owner must have to ensure that next time when he\\she order new stocks he\\she don't make order of these products because these products are loss making product and also money, time and energy wasting product for retail store**<br>\n",
    "\n",
    "**We see that highest numbers of Transaction done by those customers who are from United kingdom, germany, France, EIRE, Spain that means customers from these countries are active users for retail store. so retail store owner must have to taken care of them and try to provide some discount offer and point card offer to them so they attracted to buy new products and feel like friendly atmoshphere.**<br>\n",
    "\n",
    "**We also observe that customers who are from Lithuania, Brazil, Czech Republic, Bahrain and Saudi Arabia done very low transaction with retail store. so, retail store owner must have to find out the reason why these people doesn't come to store more frequently and after finding reason retail store owner try to resolve that problem as soon as possible and also must have to provide some good schemes and offer to them.**<br>\n",
    "\n",
    "**We see in table that highest average quantity order by those customers who are from Netherlands, Sweden, Japan, Australia,  Singapore. so, retail store owner must have to taken care of these customers and try to give some good offers and discount on their transactions because they order very large quantity of product and very active customer of retail store.**<br>\n",
    "\n",
    "**We see in table that Lowest average quantity ordered by those customers who are from USA, RSA, Unspecified category, Malta, Saudi Arabia. so, retail store owner must have to find out reason why these category of customers are order very low quantity of product and after finding the reasons retail store owner must have to resolve those problem as soon as possible. retail store owner also have to start some feedback mechanism in store so owner will find out what customers feels and how is their experience with store and what are the actual need of customers. so, based on that retail store owner will order new products in their store.**<br>\n",
    "\n",
    "**We see table and observe that on basis of average quantity highest ordered products are \"came coded as 20713\", \"TEA TIME TEA TOWELS\", \"did a credit and did not tick ret\", \"wrongly coded 23343\", \"Marked as 23343\". so retail store owner must have to maintain the stock of these product regulary and try to make these products always available beause these are high demanded products**<br>\n",
    "\n",
    "**We see in table that there are also some least ordered product based on average quantity and those products are mouldy, thrown away, wrongly marked.23343 in box, throw away, Printing smudges/thrown away, printing smudges/thrown away. so, retail store owner must have to eliminate these type of products from their next ordering list because these product are just consume the space inside store and become loss making products for store. so, rather than to order these products its better to order some new products in store.<br>**\n",
    "\n",
    "**We see in above table that highest number of transaction done by those customers who are belong to cluster 1 and cluster 0 means these are very good and active customers of retail store. so, retail store owner must have to taken care of them and try to make friendly relationship with them, also retail store owner can provide some membership cards to them and provide very good incentive offer and schemes for those members. so, it will be not only beneficial for those customers but in future other customers are also trying to get membership and customers will increase in retail store too which also increase sales of store.<br>\n",
    "We also observe that lowest number of transaction done by those customers who are from cluster 2 and cluster 3 means these are very low performer and less active customers of retail store and have higher chance of churning. so, Retail store owner must have to focus on those customers who are belong to cluster 2 and cluster 3 and must have to find out the reason why they dont do more transaction with them and what problems they are facing with retail store. so, based on that retail store provide good service and attracting offers and discount offer to them and try to attract them. so they will stay with store for longer time.<br>\n",
    "We also see that customers who belong to cluster 4 are average performer. so, we also have to focus on these category of customers too and try to attract them with some advertisement, discount offers and schemes. so, they will do more transaction with retail store and become very good customer of Retail store and stay with store for long time.**<br>\n",
    "\n",
    "**Retail store owner also start some advertisement and promotional offers in newspaper, radio and even in digital platform like social media application. so it would be beneficial for promote their store and store products more and increase more customers in retail store.**\n",
    "\n",
    "**So, if retail store owner taken care of these steps very efficiently. so in future retail store owner will increase their sales and revenue and also customers will stay with store for longer period of time.**"
   ]
  },
  {
   "cell_type": "code",
   "execution_count": null,
   "metadata": {},
   "outputs": [],
   "source": []
  }
 ],
 "metadata": {
  "kernelspec": {
   "display_name": "Python 3",
   "language": "python",
   "name": "python3"
  },
  "language_info": {
   "codemirror_mode": {
    "name": "ipython",
    "version": 3
   },
   "file_extension": ".py",
   "mimetype": "text/x-python",
   "name": "python",
   "nbconvert_exporter": "python",
   "pygments_lexer": "ipython3",
   "version": "3.8.3"
  }
 },
 "nbformat": 4,
 "nbformat_minor": 4
}
